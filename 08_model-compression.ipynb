{
 "cells": [
  {
   "cell_type": "code",
   "execution_count": null,
   "metadata": {},
   "outputs": [
    {
     "name": "stdout",
     "output_type": "stream",
     "text": [
      "⏳ Installing base requirements ...\n",
      "✅ Base requirements installed!\n",
      "⏳ Installing Git LFS ...\n",
      "✅ Git LFS installed!\n"
     ]
    }
   ],
   "source": [
    "# Uncomment and run this cell if you're on Colab or Kaggle\n",
    "# !git clone https://github.com/nlp-with-transformers/notebooks.git\n",
    "# %cd notebooks\n",
    "from install import *\n",
    "install_requirements()"
   ]
  },
  {
   "cell_type": "code",
   "execution_count": null,
   "metadata": {},
   "outputs": [
    {
     "name": "stdout",
     "output_type": "stream",
     "text": [
      "Using transformers v4.11.3\n",
      "Using datasets v1.13.0\n",
      "Using accelerate v0.5.1\n"
     ]
    }
   ],
   "source": [
    "# hide\n",
    "from utils import *\n",
    "setup_chapter()"
   ]
  },
  {
   "cell_type": "markdown",
   "metadata": {},
   "source": [
    "# Making Transformers Efficient in Production"
   ]
  },
  {
   "cell_type": "markdown",
   "metadata": {},
   "source": [
    "<img alt=\"Scaling BERT at Roblox\" caption=\"How Roblox scaled BERT with knowledge distillation, dynamic padding, and weight quantization (photo courtesy of Roblox employees Quoc N. Le and Kip Kaehler)\" src=\"images/chapter08_roblox.png\" id=\"roblox\"/>"
   ]
  },
  {
   "cell_type": "markdown",
   "metadata": {},
   "source": [
    "## Intent Detection as a Case Study"
   ]
  },
  {
   "cell_type": "markdown",
   "metadata": {},
   "source": [
    "<img alt=\"Out of Scope Query\" width=\"400\" caption=\"Three exchanges between a human (right) and a text-based assistant (left) for personal finance (courtesy of Stefan Larson et al.)\" src=\"images/chapter08_oos.png\" id=\"oos\"/> "
   ]
  },
  {
   "cell_type": "code",
   "execution_count": null,
   "metadata": {},
   "outputs": [
    {
     "data": {
      "application/vnd.jupyter.widget-view+json": {
       "model_id": "9901d62b758e4ac0a56491c7d3533e2e",
       "version_major": 2,
       "version_minor": 0
      },
      "text/plain": [
       "Downloading:   0%|          | 0.00/7.98k [00:00<?, ?B/s]"
      ]
     },
     "metadata": {},
     "output_type": "display_data"
    },
    {
     "data": {
      "application/vnd.jupyter.widget-view+json": {
       "model_id": "0b5acf4953f64336ae51a8d24fd9b474",
       "version_major": 2,
       "version_minor": 0
      },
      "text/plain": [
       "Downloading:   0%|          | 0.00/418M [00:00<?, ?B/s]"
      ]
     },
     "metadata": {},
     "output_type": "display_data"
    },
    {
     "data": {
      "application/vnd.jupyter.widget-view+json": {
       "model_id": "877733b160d44893a2153916804e3a94",
       "version_major": 2,
       "version_minor": 0
      },
      "text/plain": [
       "Downloading:   0%|          | 0.00/252 [00:00<?, ?B/s]"
      ]
     },
     "metadata": {},
     "output_type": "display_data"
    },
    {
     "data": {
      "application/vnd.jupyter.widget-view+json": {
       "model_id": "f53e5fee96484d75ad627b02e4881a5f",
       "version_major": 2,
       "version_minor": 0
      },
      "text/plain": [
       "Downloading:   0%|          | 0.00/226k [00:00<?, ?B/s]"
      ]
     },
     "metadata": {},
     "output_type": "display_data"
    },
    {
     "data": {
      "application/vnd.jupyter.widget-view+json": {
       "model_id": "665ec4fe2a38444fb1ca883481a50208",
       "version_major": 2,
       "version_minor": 0
      },
      "text/plain": [
       "Downloading:   0%|          | 0.00/112 [00:00<?, ?B/s]"
      ]
     },
     "metadata": {},
     "output_type": "display_data"
    }
   ],
   "source": [
    "#hide_output\n",
    "from transformers import pipeline\n",
    "\n",
    "bert_ckpt = \"transformersbook/bert-base-uncased-finetuned-clinc\"\n",
    "pipe = pipeline(\"text-classification\", model=bert_ckpt)"
   ]
  },
  {
   "cell_type": "code",
   "execution_count": null,
   "metadata": {},
   "outputs": [
    {
     "data": {
      "text/plain": [
       "[{'label': 'car_rental', 'score': 0.549003541469574}]"
      ]
     },
     "execution_count": null,
     "metadata": {},
     "output_type": "execute_result"
    }
   ],
   "source": [
    "query = \"\"\"Hey, I'd like to rent a vehicle from Nov 1st to Nov 15th in \n",
    "Paris and I need a 15 passenger van\"\"\"\n",
    "pipe(query)"
   ]
  },
  {
   "cell_type": "markdown",
   "metadata": {},
   "source": [
    "## Creating a Performance Benchmark"
   ]
  },
  {
   "cell_type": "code",
   "execution_count": null,
   "metadata": {},
   "outputs": [],
   "source": [
    "class PerformanceBenchmark:\n",
    "    def __init__(self, pipeline, dataset, optim_type=\"BERT baseline\"):\n",
    "        self.pipeline = pipeline\n",
    "        self.dataset = dataset\n",
    "        self.optim_type = optim_type\n",
    "        \n",
    "    def compute_accuracy(self):\n",
    "        # We'll define this later\n",
    "        pass    \n",
    "\n",
    "    def compute_size(self):\n",
    "        # We'll define this later\n",
    "        pass\n",
    "\n",
    "    def time_pipeline(self):\n",
    "        # We'll define this later\n",
    "        pass\n",
    "    \n",
    "    def run_benchmark(self):\n",
    "        metrics = {}\n",
    "        metrics[self.optim_type] = self.compute_size()\n",
    "        metrics[self.optim_type].update(self.time_pipeline())\n",
    "        metrics[self.optim_type].update(self.compute_accuracy())\n",
    "        return metrics"
   ]
  },
  {
   "cell_type": "code",
   "execution_count": null,
   "metadata": {},
   "outputs": [
    {
     "data": {
      "application/vnd.jupyter.widget-view+json": {
       "model_id": "83c7ad636fb142a98226c974a6248fe9",
       "version_major": 2,
       "version_minor": 0
      },
      "text/plain": [
       "Downloading:   0%|          | 0.00/2.75k [00:00<?, ?B/s]"
      ]
     },
     "metadata": {},
     "output_type": "display_data"
    },
    {
     "data": {
      "application/vnd.jupyter.widget-view+json": {
       "model_id": "0b7121ed5b5640f29a9a8437631068d0",
       "version_major": 2,
       "version_minor": 0
      },
      "text/plain": [
       "Downloading:   0%|          | 0.00/2.52k [00:00<?, ?B/s]"
      ]
     },
     "metadata": {},
     "output_type": "display_data"
    },
    {
     "name": "stdout",
     "output_type": "stream",
     "text": [
      "Downloading and preparing dataset clinc_oos/plus (download: 2.39 MiB, generated: 1.18 MiB, post-processed: Unknown size, total: 3.57 MiB) to /home/lewtun/.cache/huggingface/datasets/clinc_oos/plus/1.0.0/abcc41d382f8137f039adc747af44714941e8196e845dfbdd8ae7a7e020e6ba1...\n"
     ]
    },
    {
     "data": {
      "application/vnd.jupyter.widget-view+json": {
       "model_id": "331e4a742c864e5496b10fd4a0588d86",
       "version_major": 2,
       "version_minor": 0
      },
      "text/plain": [
       "Downloading:   0%|          | 0.00/291k [00:00<?, ?B/s]"
      ]
     },
     "metadata": {},
     "output_type": "display_data"
    },
    {
     "data": {
      "application/vnd.jupyter.widget-view+json": {
       "model_id": "",
       "version_major": 2,
       "version_minor": 0
      },
      "text/plain": [
       "0 examples [00:00, ? examples/s]"
      ]
     },
     "metadata": {},
     "output_type": "display_data"
    },
    {
     "data": {
      "application/vnd.jupyter.widget-view+json": {
       "model_id": "",
       "version_major": 2,
       "version_minor": 0
      },
      "text/plain": [
       "0 examples [00:00, ? examples/s]"
      ]
     },
     "metadata": {},
     "output_type": "display_data"
    },
    {
     "data": {
      "application/vnd.jupyter.widget-view+json": {
       "model_id": "",
       "version_major": 2,
       "version_minor": 0
      },
      "text/plain": [
       "0 examples [00:00, ? examples/s]"
      ]
     },
     "metadata": {},
     "output_type": "display_data"
    },
    {
     "name": "stdout",
     "output_type": "stream",
     "text": [
      "Dataset clinc_oos downloaded and prepared to /home/lewtun/.cache/huggingface/datasets/clinc_oos/plus/1.0.0/abcc41d382f8137f039adc747af44714941e8196e845dfbdd8ae7a7e020e6ba1. Subsequent calls will reuse this data.\n"
     ]
    },
    {
     "data": {
      "application/vnd.jupyter.widget-view+json": {
       "model_id": "607e6702bf3043b1bfde3e8eb760021f",
       "version_major": 2,
       "version_minor": 0
      },
      "text/plain": [
       "  0%|          | 0/3 [00:00<?, ?it/s]"
      ]
     },
     "metadata": {},
     "output_type": "display_data"
    }
   ],
   "source": [
    "#hide_output\n",
    "from datasets import load_dataset\n",
    "\n",
    "clinc = load_dataset(\"clinc_oos\", \"plus\")"
   ]
  },
  {
   "cell_type": "code",
   "execution_count": null,
   "metadata": {},
   "outputs": [
    {
     "data": {
      "text/plain": [
       "{'text': 'transfer $100 from my checking to saving account', 'intent': 133}"
      ]
     },
     "execution_count": null,
     "metadata": {},
     "output_type": "execute_result"
    }
   ],
   "source": [
    "sample = clinc[\"test\"][42]\n",
    "sample"
   ]
  },
  {
   "cell_type": "code",
   "execution_count": null,
   "metadata": {},
   "outputs": [
    {
     "data": {
      "text/plain": [
       "'transfer'"
      ]
     },
     "execution_count": null,
     "metadata": {},
     "output_type": "execute_result"
    }
   ],
   "source": [
    "intents = clinc[\"test\"].features[\"intent\"]\n",
    "intents.int2str(sample[\"intent\"])"
   ]
  },
  {
   "cell_type": "code",
   "execution_count": null,
   "metadata": {},
   "outputs": [
    {
     "data": {
      "application/vnd.jupyter.widget-view+json": {
       "model_id": "e24b9b0253964af0b0a891e4ea8859d0",
       "version_major": 2,
       "version_minor": 0
      },
      "text/plain": [
       "Downloading:   0%|          | 0.00/1.42k [00:00<?, ?B/s]"
      ]
     },
     "metadata": {},
     "output_type": "display_data"
    }
   ],
   "source": [
    "#hide_output\n",
    "from datasets import load_metric \n",
    "\n",
    "accuracy_score = load_metric(\"accuracy\")"
   ]
  },
  {
   "cell_type": "code",
   "execution_count": null,
   "metadata": {},
   "outputs": [],
   "source": [
    "def compute_accuracy(self):\n",
    "    \"\"\"This overrides the PerformanceBenchmark.compute_accuracy() method\"\"\"\n",
    "    preds, labels = [], []\n",
    "    for example in self.dataset:\n",
    "        pred = self.pipeline(example[\"text\"])[0][\"label\"]\n",
    "        label = example[\"intent\"]\n",
    "        preds.append(intents.str2int(pred))\n",
    "        labels.append(label)\n",
    "    accuracy = accuracy_score.compute(predictions=preds, references=labels)\n",
    "    print(f\"Accuracy on test set - {accuracy['accuracy']:.3f}\")\n",
    "    return accuracy\n",
    "\n",
    "PerformanceBenchmark.compute_accuracy = compute_accuracy"
   ]
  },
  {
   "cell_type": "code",
   "execution_count": null,
   "metadata": {},
   "outputs": [
    {
     "data": {
      "text/plain": [
       "('bert.encoder.layer.2.attention.self.value.weight',\n",
       " tensor([[-1.0526e-02, -3.2215e-02,  2.2097e-02,  ..., -6.0953e-03,\n",
       "           4.6521e-03,  2.9844e-02],\n",
       "         [-1.4964e-02, -1.0915e-02,  5.2396e-04,  ...,  3.2047e-05,\n",
       "          -2.6890e-02, -2.1943e-02],\n",
       "         [-2.9640e-02, -3.7842e-03, -1.2582e-02,  ..., -1.0917e-02,\n",
       "           3.1152e-02, -9.7786e-03],\n",
       "         ...,\n",
       "         [-1.5116e-02, -3.3226e-02,  4.2063e-02,  ..., -5.2652e-03,\n",
       "           1.1093e-02,  2.9703e-03],\n",
       "         [-3.6809e-02,  5.6848e-02, -2.6544e-02,  ..., -4.0114e-02,\n",
       "           6.7487e-03,  1.0511e-03],\n",
       "         [-2.4961e-02,  1.4747e-03, -5.4271e-02,  ...,  2.0004e-02,\n",
       "           2.3981e-02, -4.2880e-02]]))"
      ]
     },
     "execution_count": null,
     "metadata": {},
     "output_type": "execute_result"
    }
   ],
   "source": [
    "list(pipe.model.state_dict().items())[42]"
   ]
  },
  {
   "cell_type": "code",
   "execution_count": null,
   "metadata": {},
   "outputs": [],
   "source": [
    "import torch\n",
    "from pathlib import Path\n",
    "\n",
    "def compute_size(self):\n",
    "    \"\"\"This overrides the PerformanceBenchmark.compute_size() method\"\"\"\n",
    "    state_dict = self.pipeline.model.state_dict()\n",
    "    tmp_path = Path(\"model.pt\")\n",
    "    torch.save(state_dict, tmp_path)\n",
    "    # Calculate size in megabytes\n",
    "    size_mb = Path(tmp_path).stat().st_size / (1024 * 1024)\n",
    "    # Delete temporary file\n",
    "    tmp_path.unlink()\n",
    "    print(f\"Model size (MB) - {size_mb:.2f}\")\n",
    "    return {\"size_mb\": size_mb}\n",
    "\n",
    "PerformanceBenchmark.compute_size = compute_size"
   ]
  },
  {
   "cell_type": "code",
   "execution_count": null,
   "metadata": {},
   "outputs": [
    {
     "name": "stdout",
     "output_type": "stream",
     "text": [
      "Latency (ms) - 85.367\n",
      "Latency (ms) - 85.241\n",
      "Latency (ms) - 87.275\n"
     ]
    }
   ],
   "source": [
    "from time import perf_counter\n",
    "\n",
    "for _ in range(3):\n",
    "    start_time = perf_counter()\n",
    "    _ = pipe(query)\n",
    "    latency = perf_counter() - start_time\n",
    "    print(f\"Latency (ms) - {1000 * latency:.3f}\")"
   ]
  },
  {
   "cell_type": "code",
   "execution_count": null,
   "metadata": {},
   "outputs": [],
   "source": [
    "import numpy as np\n",
    "\n",
    "def time_pipeline(self, query=\"What is the pin number for my account?\"):\n",
    "    \"\"\"This overrides the PerformanceBenchmark.time_pipeline() method\"\"\"\n",
    "    latencies = []\n",
    "    # Warmup\n",
    "    for _ in range(10):\n",
    "        _ = self.pipeline(query)\n",
    "    # Timed run\n",
    "    for _ in range(100):\n",
    "        start_time = perf_counter()\n",
    "        _ = self.pipeline(query)\n",
    "        latency = perf_counter() - start_time\n",
    "        latencies.append(latency)\n",
    "    # Compute run statistics\n",
    "    time_avg_ms = 1000 * np.mean(latencies)\n",
    "    time_std_ms = 1000 * np.std(latencies)\n",
    "    print(f\"Average latency (ms) - {time_avg_ms:.2f} +\\- {time_std_ms:.2f}\")\n",
    "    return {\"time_avg_ms\": time_avg_ms, \"time_std_ms\": time_std_ms}\n",
    "\n",
    "PerformanceBenchmark.time_pipeline = time_pipeline"
   ]
  },
  {
   "cell_type": "code",
   "execution_count": null,
   "metadata": {},
   "outputs": [
    {
     "name": "stdout",
     "output_type": "stream",
     "text": [
      "Model size (MB) - 418.16\n",
      "Average latency (ms) - 54.20 +\\- 1.91\n",
      "Accuracy on test set - 0.867\n"
     ]
    }
   ],
   "source": [
    "pb = PerformanceBenchmark(pipe, clinc[\"test\"])\n",
    "perf_metrics = pb.run_benchmark()"
   ]
  },
  {
   "cell_type": "markdown",
   "metadata": {
    "tags": []
   },
   "source": [
    "## Making Models Smaller via Knowledge Distillation"
   ]
  },
  {
   "cell_type": "markdown",
   "metadata": {
    "tags": []
   },
   "source": [
    "### Knowledge Distillation for Fine-Tuning"
   ]
  },
  {
   "cell_type": "markdown",
   "metadata": {},
   "source": [
    "<img alt=\"Soft Probabilities\" caption=\"Comparison of a hard label that is one-hot encoded (left), softmax probabilities (middle), and softened class probabilities (right)\" src=\"images/chapter08_soft-probs.png\" id=\"soft-probs\"/> "
   ]
  },
  {
   "cell_type": "markdown",
   "metadata": {},
   "source": [
    "<img alt=\"Knowledge distillation\" caption=\"The knowledge distillation process\" src=\"images/chapter08_kd.png\" id=\"kd\"/> "
   ]
  },
  {
   "cell_type": "markdown",
   "metadata": {},
   "source": [
    "### Knowledge Distillation for Pretraining"
   ]
  },
  {
   "cell_type": "markdown",
   "metadata": {},
   "source": [
    "### Creating a Knowledge Distillation Trainer"
   ]
  },
  {
   "cell_type": "code",
   "execution_count": null,
   "metadata": {},
   "outputs": [],
   "source": [
    "from transformers import TrainingArguments\n",
    "\n",
    "class DistillationTrainingArguments(TrainingArguments):\n",
    "    def __init__(self, *args, alpha=0.5, temperature=2.0, **kwargs):\n",
    "        super().__init__(*args, **kwargs)\n",
    "        self.alpha = alpha\n",
    "        self.temperature = temperature"
   ]
  },
  {
   "cell_type": "code",
   "execution_count": null,
   "metadata": {},
   "outputs": [],
   "source": [
    "import torch.nn as nn\n",
    "import torch.nn.functional as F\n",
    "from transformers import Trainer\n",
    "\n",
    "class DistillationTrainer(Trainer):\n",
    "    def __init__(self, *args, teacher_model=None, **kwargs):\n",
    "        super().__init__(*args, **kwargs)\n",
    "        self.teacher_model = teacher_model\n",
    "\n",
    "    def compute_loss(self, model, inputs, return_outputs=False):\n",
    "        outputs_stu = model(**inputs)\n",
    "        # Extract cross-entropy loss and logits from student\n",
    "        loss_ce = outputs_stu.loss\n",
    "        logits_stu = outputs_stu.logits\n",
    "        # Extract logits from teacher\n",
    "        with torch.no_grad():\n",
    "            outputs_tea = self.teacher_model(**inputs)\n",
    "            logits_tea = outputs_tea.logits\n",
    "        # Soften probabilities and compute distillation loss\n",
    "        loss_fct = nn.KLDivLoss(reduction=\"batchmean\")\n",
    "        loss_kd = self.args.temperature ** 2 * loss_fct(\n",
    "            F.log_softmax(logits_stu / self.args.temperature, dim=-1),\n",
    "            F.softmax(logits_tea / self.args.temperature, dim=-1))\n",
    "        # Return weighted student loss\n",
    "        loss = self.args.alpha * loss_ce + (1. - self.args.alpha) * loss_kd\n",
    "        return (loss, outputs_stu) if return_outputs else loss"
   ]
  },
  {
   "cell_type": "markdown",
   "metadata": {},
   "source": [
    "### Choosing a Good Student Initialization"
   ]
  },
  {
   "cell_type": "code",
   "execution_count": null,
   "metadata": {},
   "outputs": [
    {
     "data": {
      "application/vnd.jupyter.widget-view+json": {
       "model_id": "9cbc667acbd944f593b83c21c8889ce8",
       "version_major": 2,
       "version_minor": 0
      },
      "text/plain": [
       "Downloading:   0%|          | 0.00/28.0 [00:00<?, ?B/s]"
      ]
     },
     "metadata": {},
     "output_type": "display_data"
    },
    {
     "data": {
      "application/vnd.jupyter.widget-view+json": {
       "model_id": "c35ba476d0e44ccbb15409660bfe1642",
       "version_major": 2,
       "version_minor": 0
      },
      "text/plain": [
       "Downloading:   0%|          | 0.00/483 [00:00<?, ?B/s]"
      ]
     },
     "metadata": {},
     "output_type": "display_data"
    },
    {
     "data": {
      "application/vnd.jupyter.widget-view+json": {
       "model_id": "a1a17d9f5cb147c59d1da623957ed4d6",
       "version_major": 2,
       "version_minor": 0
      },
      "text/plain": [
       "Downloading:   0%|          | 0.00/226k [00:00<?, ?B/s]"
      ]
     },
     "metadata": {},
     "output_type": "display_data"
    },
    {
     "data": {
      "application/vnd.jupyter.widget-view+json": {
       "model_id": "50d7ff524239455292ce226c129b9c28",
       "version_major": 2,
       "version_minor": 0
      },
      "text/plain": [
       "Downloading:   0%|          | 0.00/455k [00:00<?, ?B/s]"
      ]
     },
     "metadata": {},
     "output_type": "display_data"
    },
    {
     "data": {
      "application/vnd.jupyter.widget-view+json": {
       "model_id": "4b3300485702445aba4a28f61e9678bc",
       "version_major": 2,
       "version_minor": 0
      },
      "text/plain": [
       "  0%|          | 0/16 [00:00<?, ?ba/s]"
      ]
     },
     "metadata": {},
     "output_type": "display_data"
    },
    {
     "data": {
      "application/vnd.jupyter.widget-view+json": {
       "model_id": "19c19d8e651e4ce1ade55f2fd6170c77",
       "version_major": 2,
       "version_minor": 0
      },
      "text/plain": [
       "  0%|          | 0/4 [00:00<?, ?ba/s]"
      ]
     },
     "metadata": {},
     "output_type": "display_data"
    },
    {
     "data": {
      "application/vnd.jupyter.widget-view+json": {
       "model_id": "4461fcb4d0e743ed84a0814a642ba73b",
       "version_major": 2,
       "version_minor": 0
      },
      "text/plain": [
       "  0%|          | 0/6 [00:00<?, ?ba/s]"
      ]
     },
     "metadata": {},
     "output_type": "display_data"
    }
   ],
   "source": [
    "#hide_output\n",
    "from transformers import AutoTokenizer\n",
    "\n",
    "student_ckpt = \"distilbert-base-uncased\"\n",
    "student_tokenizer = AutoTokenizer.from_pretrained(student_ckpt)\n",
    "\n",
    "def tokenize_text(batch):\n",
    "    return student_tokenizer(batch[\"text\"], truncation=True)\n",
    "\n",
    "clinc_enc = clinc.map(tokenize_text, batched=True, remove_columns=[\"text\"])\n",
    "clinc_enc = clinc_enc.rename_column(\"intent\", \"labels\")"
   ]
  },
  {
   "cell_type": "code",
   "execution_count": null,
   "metadata": {},
   "outputs": [],
   "source": [
    "from huggingface_hub import notebook_login\n",
    "\n",
    "notebook_login()"
   ]
  },
  {
   "cell_type": "code",
   "execution_count": null,
   "metadata": {},
   "outputs": [],
   "source": [
    "def compute_metrics(pred):\n",
    "    predictions, labels = pred\n",
    "    predictions = np.argmax(predictions, axis=1)\n",
    "    return accuracy_score.compute(predictions=predictions, references=labels)"
   ]
  },
  {
   "cell_type": "code",
   "execution_count": null,
   "metadata": {},
   "outputs": [],
   "source": [
    "batch_size = 48\n",
    "\n",
    "finetuned_ckpt = \"distilbert-base-uncased-finetuned-clinc\"\n",
    "student_training_args = DistillationTrainingArguments(\n",
    "    output_dir=finetuned_ckpt, evaluation_strategy = \"epoch\", \n",
    "    num_train_epochs=5, learning_rate=2e-5, \n",
    "    per_device_train_batch_size=batch_size, \n",
    "    per_device_eval_batch_size=batch_size, alpha=1, weight_decay=0.01, \n",
    "    # push_to_hub=True\n",
    ")"
   ]
  },
  {
   "cell_type": "code",
   "execution_count": null,
   "metadata": {},
   "outputs": [],
   "source": [
    "#hide\n",
    "student_training_args.logging_steps = len(clinc_enc['train']) // batch_size\n",
    "student_training_args.disable_tqdm = False\n",
    "student_training_args.save_steps = 1e9\n",
    "student_training_args.log_level = 40"
   ]
  },
  {
   "cell_type": "code",
   "execution_count": null,
   "metadata": {},
   "outputs": [
    {
     "name": "stdout",
     "output_type": "stream",
     "text": [
      "env: TOKENIZERS_PARALLELISM=false\n"
     ]
    }
   ],
   "source": [
    "#hide\n",
    "%env TOKENIZERS_PARALLELISM=false"
   ]
  },
  {
   "cell_type": "code",
   "execution_count": null,
   "metadata": {},
   "outputs": [],
   "source": [
    "id2label = pipe.model.config.id2label\n",
    "label2id = pipe.model.config.label2id"
   ]
  },
  {
   "cell_type": "code",
   "execution_count": null,
   "metadata": {},
   "outputs": [],
   "source": [
    "from transformers import AutoConfig\n",
    "\n",
    "num_labels = intents.num_classes\n",
    "student_config = (AutoConfig\n",
    "                  .from_pretrained(student_ckpt, num_labels=num_labels, \n",
    "                                   id2label=id2label, label2id=label2id))"
   ]
  },
  {
   "cell_type": "code",
   "execution_count": null,
   "metadata": {},
   "outputs": [],
   "source": [
    "import torch\n",
    "from transformers import AutoModelForSequenceClassification\n",
    "\n",
    "device = torch.device(\"cuda\" if torch.cuda.is_available() else \"cpu\")\n",
    "\n",
    "def student_init():\n",
    "    return (AutoModelForSequenceClassification\n",
    "            .from_pretrained(student_ckpt, config=student_config).to(device))"
   ]
  },
  {
   "cell_type": "code",
   "execution_count": null,
   "metadata": {},
   "outputs": [],
   "source": [
    "#hide_output\n",
    "teacher_ckpt = \"transformersbook/bert-base-uncased-finetuned-clinc\"\n",
    "teacher_model = (AutoModelForSequenceClassification\n",
    "                 .from_pretrained(teacher_ckpt, num_labels=num_labels)\n",
    "                 .to(device))"
   ]
  },
  {
   "cell_type": "code",
   "execution_count": null,
   "metadata": {},
   "outputs": [],
   "source": [
    "distilbert_trainer = DistillationTrainer(model_init=student_init,\n",
    "    teacher_model=teacher_model, args=student_training_args,\n",
    "    train_dataset=clinc_enc['train'], eval_dataset=clinc_enc['validation'],\n",
    "    compute_metrics=compute_metrics, tokenizer=student_tokenizer)\n",
    "\n",
    "distilbert_trainer.train()"
   ]
  },
  {
   "cell_type": "code",
   "execution_count": null,
   "metadata": {},
   "outputs": [],
   "source": [
    "#hide_output\n",
    "distilbert_trainer.push_to_hub(\"Training completed!\")"
   ]
  },
  {
   "cell_type": "code",
   "execution_count": 65,
   "metadata": {},
   "outputs": [
    {
     "data": {
      "application/vnd.jupyter.widget-view+json": {
       "model_id": "85e2e060c4c04fa3b78dacf650498385",
       "version_major": 2,
       "version_minor": 0
      },
      "text/plain": [
       "Downloading:   0%|          | 0.00/8.01k [00:00<?, ?B/s]"
      ]
     },
     "metadata": {},
     "output_type": "execute_result"
    }
   ],
   "source": [
    "#hide_output\n",
    "distilbert_trainer.push_to_hub(\"Training completed!\")"
   ]
  },
  {
   "cell_type": "code",
   "execution_count": null,
   "metadata": {},
   "outputs": [],
   "source": [
    "#hide_output\n",
=======
>>>>>>> d19d87b2a89e6c7ae8a7eb301c6c03df280d5e51
    "finetuned_ckpt = \"transformersbook/distilbert-base-uncased-finetuned-clinc\"\n",
    "pipe = pipeline(\"text-classification\", model=finetuned_ckpt)"
   ]
  },
  {
   "cell_type": "code",
   "execution_count": 30,
   "metadata": {},
   "outputs": [
    {
     "name": "stdout",
     "output_type": "stream",
     "text": [
      "Model size (MB) - 255.89\n",
      "Average latency (ms) - 27.53 +\\- 0.60\n",
      "Accuracy on test set - 0.858\n"
     ]
    }
   ],
   "source": [
    "optim_type = \"DistilBERT\"\n",
    "pb = PerformanceBenchmark(pipe, clinc[\"test\"], optim_type=optim_type)\n",
    "perf_metrics.update(pb.run_benchmark())"
   ]
  },
  {
   "cell_type": "code",
   "execution_count": 31,
   "metadata": {},
   "outputs": [
    {
     "data": {
      "application/pdf": "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\n",
      "image/svg+xml": "<?xml version=\"1.0\" encoding=\"utf-8\" standalone=\"no\"?>\n<!DOCTYPE svg PUBLIC \"-//W3C//DTD SVG 1.1//EN\"\n  \"http://www.w3.org/Graphics/SVG/1.1/DTD/svg11.dtd\">\n<svg height=\"269.5175pt\" version=\"1.1\" viewBox=\"0 0 383.721875 269.5175\" width=\"383.721875pt\" xmlns=\"http://www.w3.org/2000/svg\" xmlns:xlink=\"http://www.w3.org/1999/xlink\">\n <metadata>\n  <rdf:RDF xmlns:cc=\"http://creativecommons.org/ns#\" xmlns:dc=\"http://purl.org/dc/elements/1.1/\" xmlns:rdf=\"http://www.w3.org/1999/02/22-rdf-syntax-ns#\">\n   <cc:Work>\n    <dc:type rdf:resource=\"http://purl.org/dc/dcmitype/StillImage\"/>\n    <dc:date>2021-10-29T15:03:34.003123</dc:date>\n    <dc:format>image/svg+xml</dc:format>\n    <dc:creator>\n     <cc:Agent>\n      <dc:title>Matplotlib v3.4.3, https://matplotlib.org/</dc:title>\n     </cc:Agent>\n    </dc:creator>\n   </cc:Work>\n  </rdf:RDF>\n </metadata>\n <defs>\n  <style type=\"text/css\">*{stroke-linecap:butt;stroke-linejoin:round;}</style>\n </defs>\n <g id=\"figure_1\">\n  <g id=\"patch_1\">\n   <path d=\"M 0 269.5175 \nL 383.721875 269.5175 \nL 383.721875 0 \nL 0 0 \nz\n\" style=\"fill:none;\"/>\n  </g>\n  <g id=\"axes_1\">\n   <g id=\"patch_2\">\n    <path d=\"M 41.721875 229.044375 \nL 376.521875 229.044375 \nL 376.521875 11.604375 \nL 41.721875 11.604375 \nz\n\" style=\"fill:#ffffff;\"/>\n   </g>\n   <g id=\"PathCollection_1\">\n    <defs>\n     <path d=\"M 0 10.224506 \nC 2.711571 10.224506 5.312448 9.147188 7.229818 7.229818 \nC 9.147188 5.312448 10.224506 2.711571 10.224506 0 \nC 10.224506 -2.711571 9.147188 -5.312448 7.229818 -7.229818 \nC 5.312448 -9.147188 2.711571 -10.224506 0 -10.224506 \nC -2.711571 -10.224506 -5.312448 -9.147188 -7.229818 -7.229818 \nC -9.147188 -5.312448 -10.224506 -2.711571 -10.224506 0 \nC -10.224506 2.711571 -9.147188 5.312448 -7.229818 7.229818 \nC -5.312448 9.147188 -2.711571 10.224506 0 10.224506 \nz\n\" id=\"m0379df89f6\" style=\"stroke:#0071bc;stroke-opacity:0.5;\"/>\n    </defs>\n    <g clip-path=\"url(#pf35a93c602)\">\n     <use style=\"fill:#0071bc;fill-opacity:0.5;stroke:#0071bc;stroke-opacity:0.5;\" x=\"359.809553\" xlink:href=\"#m0379df89f6\" y=\"82.766557\"/>\n    </g>\n   </g>\n   <g id=\"PathCollection_2\">\n    <defs>\n     <path d=\"M -4.669206 3.719148 \nQ -4.259197 4.294385 -3.6962 4.762529 \nQ -3.255593 5.126642 -2.720134 5.432619 \nL -3.188279 6.445402 \nQ -3.858368 6.062931 -4.403007 5.603966 \nQ -5.118992 5.01955 -5.626914 4.312743 \nL -4.669206 3.719148 \nz\nM 3.800232 5.432619 \nQ 4.335692 5.126642 4.776298 4.762529 \nQ 5.275041 4.340281 5.752364 3.719148 \nL 6.707012 4.303564 \nQ 6.144015 5.047088 5.483105 5.603966 \nQ 4.938466 6.062931 4.259197 6.445402 \nL 3.800232 5.432619 \nz\nM 5.752364 -3.719148 \nQ 5.330116 -4.294385 4.776298 -4.762529 \nQ 4.335692 -5.126642 3.800232 -5.432619 \nL 4.259197 -6.445402 \nQ 4.938466 -6.062931 5.483105 -5.603966 \nQ 6.192971 -5.01955 6.707012 -4.312743 \nL 5.752364 -3.719148 \nz\nM -2.720134 -5.432619 \nQ -3.255593 -5.126642 -3.6962 -4.762529 \nQ -4.259197 -4.294385 -4.669206 -3.719148 \nL -5.626914 -4.312743 \nQ -5.158769 -4.973653 -4.403007 -5.603966 \nQ -3.858368 -6.062931 -3.188279 -6.445402 \nL -2.720134 -5.432619 \nz\nM -0.92099 6.215919 \nQ -0.195825 6.427043 0.538519 6.427043 \nQ 1.275923 6.427043 2.004148 6.215919 \nL 2.368261 7.26848 \nQ 1.459509 7.5255 0.541579 7.5255 \nQ -0.376352 7.5255 -1.294282 7.26848 \nL -0.92099 6.215919 \nz\nM 6.755968 1.464099 \nQ 6.908957 0.763412 6.908957 -0.00153 \nQ 6.908957 -0.766472 6.755968 -1.464099 \nL 7.808529 -1.837391 \nQ 7.998234 -0.965357 7.998234 0.00153 \nQ 7.998234 0.965357 7.808529 1.834331 \nL 6.755968 1.464099 \nz\nM 2.004148 -6.215919 \nQ 1.275923 -6.427043 0.538519 -6.427043 \nQ -0.195825 -6.427043 -0.92099 -6.215919 \nL -1.294282 -7.26848 \nQ -0.376352 -7.5255 0.541579 -7.5255 \nQ 1.459509 -7.5255 2.368261 -7.26848 \nL 2.004148 -6.215919 \nz\nM -5.663631 -1.464099 \nQ -5.81662 -0.766472 -5.81662 -0.00153 \nQ -5.81662 0.763412 -5.663631 1.464099 \nL -6.716191 1.834331 \nQ -6.908957 0.965357 -6.908957 0.00153 \nQ -6.908957 -0.965357 -6.716191 -1.837391 \nL -5.663631 -1.464099 \nz\n\" id=\"mc819f3b370\" style=\"stroke:#f7931e;stroke-opacity:0.5;\"/>\n    </defs>\n    <g clip-path=\"url(#pf35a93c602)\">\n     <use style=\"fill:#f7931e;fill-opacity:0.5;stroke:#f7931e;stroke-opacity:0.5;\" x=\"197.781976\" xlink:href=\"#mc819f3b370\" y=\"102.53383\"/>\n    </g>\n   </g>\n   <g id=\"matplotlib.axis_1\">\n    <g id=\"xtick_1\">\n     <g id=\"line2d_1\">\n      <defs>\n       <path d=\"M 0 0 \nL 0 3.5 \n\" id=\"mef02b63740\" style=\"stroke:#000000;stroke-width:0.8;\"/>\n      </defs>\n      <g>\n       <use style=\"stroke:#000000;stroke-width:0.8;\" x=\"95.529018\" xlink:href=\"#mef02b63740\" y=\"229.044375\"/>\n      </g>\n     </g>\n     <g id=\"text_1\">\n      <!-- 10 -->\n      <g transform=\"translate(90.591205 244.853125)scale(0.12 -0.12)\">\n       <defs>\n        <path d=\"M 832 0 \nL 1363 0 \nL 1363 4474 \nL 1171 4474 \nL 141 4083 \nL 141 3776 \nL 832 3846 \nL 832 0 \nz\n\" id=\"GuardianSansCond-Regular-31\" transform=\"scale(0.015625)\"/>\n        <path d=\"M 1722 -70 \nC 2656 -70 3155 646 3155 2061 \nL 3155 2406 \nC 3155 3891 2598 4499 1715 4499 \nC 819 4499 269 3834 269 2368 \nL 269 2042 \nC 269 499 845 -70 1722 -70 \nz\nM 1728 384 \nC 1069 384 845 979 845 2016 \nL 845 2490 \nC 845 3494 1088 4051 1709 4051 \nC 2336 4051 2592 3514 2592 2458 \nL 2592 1978 \nC 2592 934 2374 384 1728 384 \nz\n\" id=\"GuardianSansCond-Regular-30\" transform=\"scale(0.015625)\"/>\n       </defs>\n       <use xlink:href=\"#GuardianSansCond-Regular-31\"/>\n       <use x=\"28.799988\" xlink:href=\"#GuardianSansCond-Regular-30\"/>\n      </g>\n     </g>\n    </g>\n    <g id=\"xtick_2\">\n     <g id=\"line2d_2\">\n      <g>\n       <use style=\"stroke:#000000;stroke-width:0.8;\" x=\"155.314732\" xlink:href=\"#mef02b63740\" y=\"229.044375\"/>\n      </g>\n     </g>\n     <g id=\"text_2\">\n      <!-- 20 -->\n      <g transform=\"translate(149.554732 244.853125)scale(0.12 -0.12)\">\n       <defs>\n        <path d=\"M 173 0 \nL 2470 0 \nL 2470 461 \nL 800 461 \nL 800 480 \nL 1574 1421 \nC 2067 2035 2419 2528 2419 3264 \nC 2419 4026 2029 4499 1222 4499 \nC 806 4499 499 4410 269 4282 \nL 269 3853 \nC 467 3949 730 4032 1056 4032 \nC 1619 4032 1850 3750 1850 3213 \nC 1850 2630 1542 2189 1152 1670 \nL 173 397 \nL 173 0 \nz\n\" id=\"GuardianSansCond-Regular-32\" transform=\"scale(0.015625)\"/>\n       </defs>\n       <use xlink:href=\"#GuardianSansCond-Regular-32\"/>\n       <use x=\"42.499985\" xlink:href=\"#GuardianSansCond-Regular-30\"/>\n      </g>\n     </g>\n    </g>\n    <g id=\"xtick_3\">\n     <g id=\"line2d_3\">\n      <g>\n       <use style=\"stroke:#000000;stroke-width:0.8;\" x=\"215.100446\" xlink:href=\"#mef02b63740\" y=\"229.044375\"/>\n      </g>\n     </g>\n     <g id=\"text_3\">\n      <!-- 30 -->\n      <g transform=\"translate(209.358259 244.853125)scale(0.12 -0.12)\">\n       <defs>\n        <path d=\"M 1094 -64 \nC 1920 -64 2432 416 2432 1248 \nC 2432 1939 2112 2253 1606 2362 \nL 1606 2381 \nC 2042 2515 2310 2803 2310 3405 \nC 2310 4096 1882 4499 1158 4499 \nC 787 4499 486 4429 275 4320 \nL 275 3891 \nC 461 3968 678 4038 998 4038 \nC 1478 4038 1754 3866 1754 3302 \nC 1754 2797 1478 2547 1018 2547 \nL 717 2547 \nL 717 2086 \nL 1056 2086 \nC 1600 2086 1869 1837 1869 1267 \nC 1869 646 1517 403 947 403 \nC 646 403 358 493 147 608 \nL 147 166 \nC 358 32 640 -64 1094 -64 \nz\n\" id=\"GuardianSansCond-Regular-33\" transform=\"scale(0.015625)\"/>\n       </defs>\n       <use xlink:href=\"#GuardianSansCond-Regular-33\"/>\n       <use x=\"42.199997\" xlink:href=\"#GuardianSansCond-Regular-30\"/>\n      </g>\n     </g>\n    </g>\n    <g id=\"xtick_4\">\n     <g id=\"line2d_4\">\n      <g>\n       <use style=\"stroke:#000000;stroke-width:0.8;\" x=\"274.886161\" xlink:href=\"#mef02b63740\" y=\"229.044375\"/>\n      </g>\n     </g>\n     <g id=\"text_4\">\n      <!-- 40 -->\n      <g transform=\"translate(268.831786 244.853125)scale(0.12 -0.12)\">\n       <defs>\n        <path d=\"M 1805 0 \nL 2330 0 \nL 2330 1107 \nL 2957 1107 \nL 2957 1562 \nL 2330 1562 \nL 2330 4435 \nL 1869 4435 \nL 70 1504 \nL 70 1107 \nL 1805 1107 \nL 1805 0 \nz\nM 608 1562 \nL 608 1581 \nL 1779 3475 \nL 1805 3475 \nL 1805 1562 \nL 608 1562 \nz\n\" id=\"GuardianSansCond-Regular-34\" transform=\"scale(0.015625)\"/>\n       </defs>\n       <use xlink:href=\"#GuardianSansCond-Regular-34\"/>\n       <use x=\"47.399994\" xlink:href=\"#GuardianSansCond-Regular-30\"/>\n      </g>\n     </g>\n    </g>\n    <g id=\"xtick_5\">\n     <g id=\"line2d_5\">\n      <g>\n       <use style=\"stroke:#000000;stroke-width:0.8;\" x=\"334.671875\" xlink:href=\"#mef02b63740\" y=\"229.044375\"/>\n      </g>\n     </g>\n     <g id=\"text_5\">\n      <!-- 50 -->\n      <g transform=\"translate(328.93625 244.853125)scale(0.12 -0.12)\">\n       <defs>\n        <path d=\"M 1094 -64 \nC 1971 -64 2445 512 2445 1363 \nC 2445 2298 1997 2707 1165 2707 \nC 1011 2707 890 2694 794 2675 \nL 877 3974 \nL 2342 3974 \nL 2342 4435 \nL 429 4435 \nL 294 2170 \nC 467 2208 710 2246 966 2246 \nC 1587 2246 1875 1990 1875 1363 \nC 1875 717 1587 397 954 397 \nC 627 397 365 474 154 582 \nL 154 147 \nC 352 26 672 -64 1094 -64 \nz\n\" id=\"GuardianSansCond-Regular-35\" transform=\"scale(0.015625)\"/>\n       </defs>\n       <use xlink:href=\"#GuardianSansCond-Regular-35\"/>\n       <use x=\"42.099991\" xlink:href=\"#GuardianSansCond-Regular-30\"/>\n      </g>\n     </g>\n    </g>\n    <g id=\"text_6\">\n     <!-- Average latency (ms) -->\n     <g transform=\"translate(164.745312 259.953125)scale(0.12 -0.12)\">\n      <defs>\n       <path d=\"M 70 0 \nL 576 0 \nL 909 1222 \nL 2310 1222 \nL 2656 0 \nL 3206 0 \nL 1933 4435 \nL 1338 4435 \nL 70 0 \nz\nM 1619 3776 \nC 1619 3776 1696 3430 1754 3213 \nL 2176 1677 \nL 1043 1677 \nL 1466 3213 \nC 1530 3437 1600 3776 1600 3776 \nL 1619 3776 \nz\n\" id=\"GuardianSansCond-Regular-41\" transform=\"scale(0.015625)\"/>\n       <path d=\"M 1075 0 \nL 1613 0 \nL 2605 3283 \nL 2093 3283 \nL 1504 1190 \nC 1421 870 1370 653 1370 653 \nL 1344 653 \nC 1344 653 1299 877 1216 1190 \nL 627 3283 \nL 70 3283 \nL 1075 0 \nz\n\" id=\"GuardianSansCond-Regular-76\" transform=\"scale(0.015625)\"/>\n       <path d=\"M 1555 -51 \nC 1984 -51 2317 102 2470 243 \nL 2470 627 \nC 2240 499 1965 397 1613 397 \nC 1037 397 742 698 723 1466 \nL 2554 1466 \nL 2554 1798 \nC 2554 2893 2176 3334 1402 3334 \nC 659 3334 186 2810 186 1722 \nL 186 1549 \nC 186 499 634 -51 1555 -51 \nz\nM 1382 2906 \nC 1830 2906 2010 2611 2010 1894 \nL 723 1894 \nC 736 2630 992 2906 1382 2906 \nz\n\" id=\"GuardianSansCond-Regular-65\" transform=\"scale(0.015625)\"/>\n       <path d=\"M 346 0 \nL 870 0 \nL 870 2605 \nC 1062 2752 1306 2842 1587 2842 \nC 1638 2842 1728 2835 1786 2829 \nL 1786 3302 \nC 1747 3315 1677 3328 1606 3328 \nC 1306 3328 1030 3142 870 2938 \nL 845 2938 \nL 845 3283 \nL 346 3283 \nL 346 0 \nz\n\" id=\"GuardianSansCond-Regular-72\" transform=\"scale(0.015625)\"/>\n       <path d=\"M 1082 -51 \nC 1395 -51 1638 77 1779 230 \nL 1811 230 \nL 1862 0 \nL 2291 0 \nL 2291 2413 \nC 2291 3027 1958 3334 1293 3334 \nC 915 3334 634 3258 410 3155 \nL 410 2771 \nC 576 2829 806 2886 1094 2886 \nC 1600 2886 1766 2739 1766 2278 \nL 1766 1958 \nL 1088 1856 \nC 480 1766 160 1466 160 883 \nC 160 250 525 -51 1082 -51 \nz\nM 1222 358 \nC 877 358 704 544 704 915 \nC 704 1274 877 1440 1242 1485 \nL 1766 1549 \nL 1766 525 \nC 1658 435 1459 358 1222 358 \nz\n\" id=\"GuardianSansCond-Regular-61\" transform=\"scale(0.015625)\"/>\n       <path d=\"M 1325 -1235 \nC 2240 -1235 2675 -787 2675 -179 \nC 2675 416 2336 704 1696 704 \nL 1069 704 \nC 858 704 774 806 774 966 \nC 774 1069 826 1178 890 1242 \nC 1018 1197 1171 1178 1331 1178 \nC 1939 1178 2413 1530 2413 2208 \nL 2413 2304 \nC 2413 2560 2336 2739 2234 2874 \nL 2682 2874 \nL 2682 3283 \nL 1747 3283 \nC 1626 3315 1485 3334 1325 3334 \nC 704 3334 250 2944 250 2278 \nL 250 2182 \nC 250 1786 429 1510 634 1376 \nC 422 1210 294 1024 294 787 \nC 294 544 442 403 627 333 \nL 627 307 \nC 320 192 64 -38 64 -422 \nC 64 -915 506 -1235 1325 -1235 \nz\nM 1312 -819 \nC 832 -819 595 -640 595 -326 \nC 595 -51 762 141 966 218 \nL 1632 218 \nC 2022 218 2150 45 2150 -237 \nC 2150 -602 1926 -819 1312 -819 \nz\nM 1331 1581 \nC 998 1581 762 1773 762 2189 \nL 762 2323 \nC 762 2726 973 2931 1331 2931 \nC 1670 2931 1901 2746 1901 2310 \nL 1901 2176 \nC 1901 1779 1683 1581 1331 1581 \nz\n\" id=\"GuardianSansCond-Regular-67\" transform=\"scale(0.015625)\"/>\n       <path id=\"GuardianSansCond-Regular-20\" transform=\"scale(0.015625)\"/>\n       <path d=\"M 358 0 \nL 877 0 \nL 877 4698 \nL 358 4698 \nL 358 0 \nz\n\" id=\"GuardianSansCond-Regular-6c\" transform=\"scale(0.015625)\"/>\n       <path d=\"M 1222 -38 \nC 1466 -38 1619 26 1722 90 \nL 1722 442 \nC 1632 416 1517 390 1382 390 \nC 1107 390 1005 480 1005 781 \nL 1005 2848 \nL 1683 2848 \nL 1683 3283 \nL 1005 3283 \nL 1005 4051 \nL 486 4051 \nL 486 3283 \nL 96 3283 \nL 96 2848 \nL 486 2848 \nL 486 710 \nC 486 160 774 -38 1222 -38 \nz\n\" id=\"GuardianSansCond-Regular-74\" transform=\"scale(0.015625)\"/>\n       <path d=\"M 346 0 \nL 870 0 \nL 870 2688 \nC 1037 2778 1306 2886 1587 2886 \nC 1965 2886 2093 2765 2093 2458 \nL 2093 0 \nL 2611 0 \nL 2611 2528 \nC 2611 3085 2342 3334 1811 3334 \nC 1440 3334 1107 3194 870 3021 \nL 845 3021 \nL 845 3283 \nL 346 3283 \nL 346 0 \nz\n\" id=\"GuardianSansCond-Regular-6e\" transform=\"scale(0.015625)\"/>\n       <path d=\"M 1498 -51 \nC 1869 -51 2125 51 2298 173 \nL 2298 595 \nC 2163 518 1907 390 1555 390 \nC 1005 390 723 704 723 1542 \nL 723 1798 \nC 723 2464 941 2893 1510 2893 \nC 1856 2893 2054 2803 2259 2714 \nL 2259 3149 \nC 2093 3258 1875 3334 1542 3334 \nC 768 3334 186 2886 186 1741 \nL 186 1536 \nC 186 416 685 -51 1498 -51 \nz\n\" id=\"GuardianSansCond-Regular-63\" transform=\"scale(0.015625)\"/>\n       <path d=\"M 570 -1261 \nC 1082 -1261 1306 -960 1485 -365 \nL 2592 3283 \nL 2067 3283 \nL 1485 1197 \nC 1421 992 1376 787 1376 787 \nL 1363 787 \nC 1363 787 1331 928 1248 1203 \nL 621 3283 \nL 51 3283 \nL 1120 13 \nL 1018 -294 \nC 896 -698 749 -826 480 -826 \nC 384 -826 262 -813 186 -800 \nL 186 -1171 \nC 282 -1222 435 -1261 570 -1261 \nz\n\" id=\"GuardianSansCond-Regular-79\" transform=\"scale(0.015625)\"/>\n       <path d=\"M 1318 -768 \nL 1760 -768 \nC 1267 -166 826 877 826 1869 \nL 826 2086 \nC 826 3117 1267 4102 1760 4698 \nL 1318 4698 \nC 800 4160 275 3187 275 2029 \nL 275 1882 \nC 275 723 800 -237 1318 -768 \nz\n\" id=\"GuardianSansCond-Regular-28\" transform=\"scale(0.015625)\"/>\n       <path d=\"M 346 0 \nL 870 0 \nL 870 2688 \nC 1050 2790 1267 2886 1523 2886 \nC 1856 2886 1971 2758 1971 2464 \nL 1971 0 \nL 2490 0 \nL 2490 2688 \nC 2682 2797 2912 2886 3136 2886 \nC 3488 2886 3590 2746 3590 2464 \nL 3590 0 \nL 4115 0 \nL 4115 2528 \nC 4115 3104 3821 3334 3347 3334 \nC 2995 3334 2688 3187 2419 2995 \nL 2394 2995 \nC 2266 3226 2061 3334 1722 3334 \nC 1395 3334 1088 3181 870 3021 \nL 845 3021 \nL 845 3283 \nL 346 3283 \nL 346 0 \nz\n\" id=\"GuardianSansCond-Regular-6d\" transform=\"scale(0.015625)\"/>\n       <path d=\"M 992 -51 \nC 1658 -51 2054 307 2054 947 \nC 2054 1485 1818 1709 1306 1888 \nL 1050 1978 \nC 768 2074 659 2195 659 2451 \nC 659 2771 864 2893 1222 2893 \nC 1517 2893 1760 2810 1914 2739 \nL 1914 3168 \nC 1773 3251 1568 3334 1197 3334 \nC 531 3334 160 2982 160 2406 \nC 160 1901 422 1658 826 1517 \nL 1082 1427 \nC 1408 1312 1536 1184 1536 896 \nC 1536 582 1370 390 934 390 \nC 582 390 358 480 154 563 \nL 154 141 \nC 358 19 640 -51 992 -51 \nz\n\" id=\"GuardianSansCond-Regular-73\" transform=\"scale(0.015625)\"/>\n       <path d=\"M 32 -768 \nL 480 -768 \nC 992 -237 1517 717 1517 1882 \nL 1517 2029 \nC 1517 3181 992 4160 480 4698 \nL 32 4698 \nC 531 4096 973 3053 973 2035 \nL 973 1818 \nC 973 813 531 -166 32 -768 \nz\n\" id=\"GuardianSansCond-Regular-29\" transform=\"scale(0.015625)\"/>\n      </defs>\n      <use xlink:href=\"#GuardianSansCond-Regular-41\"/>\n      <use x=\"51.099991\" xlink:href=\"#GuardianSansCond-Regular-76\"/>\n      <use x=\"92.999985\" xlink:href=\"#GuardianSansCond-Regular-65\"/>\n      <use x=\"135.699982\" xlink:href=\"#GuardianSansCond-Regular-72\"/>\n      <use x=\"164.499969\" xlink:href=\"#GuardianSansCond-Regular-61\"/>\n      <use x=\"205.399963\" xlink:href=\"#GuardianSansCond-Regular-67\"/>\n      <use x=\"248.09996\" xlink:href=\"#GuardianSansCond-Regular-65\"/>\n      <use x=\"290.799957\" xlink:href=\"#GuardianSansCond-Regular-20\"/>\n      <use x=\"306.599945\" xlink:href=\"#GuardianSansCond-Regular-6c\"/>\n      <use x=\"325.899933\" xlink:href=\"#GuardianSansCond-Regular-61\"/>\n      <use x=\"366.799927\" xlink:href=\"#GuardianSansCond-Regular-74\"/>\n      <use x=\"395.799911\" xlink:href=\"#GuardianSansCond-Regular-65\"/>\n      <use x=\"438.499908\" xlink:href=\"#GuardianSansCond-Regular-6e\"/>\n      <use x=\"484.599899\" xlink:href=\"#GuardianSansCond-Regular-63\"/>\n      <use x=\"522.399887\" xlink:href=\"#GuardianSansCond-Regular-79\"/>\n      <use x=\"563.799881\" xlink:href=\"#GuardianSansCond-Regular-20\"/>\n      <use x=\"579.599869\" xlink:href=\"#GuardianSansCond-Regular-28\"/>\n      <use x=\"607.599854\" xlink:href=\"#GuardianSansCond-Regular-6d\"/>\n      <use x=\"677.099838\" xlink:href=\"#GuardianSansCond-Regular-73\"/>\n      <use x=\"711.599823\" xlink:href=\"#GuardianSansCond-Regular-29\"/>\n     </g>\n    </g>\n   </g>\n   <g id=\"matplotlib.axis_2\">\n    <g id=\"ytick_1\">\n     <g id=\"line2d_6\">\n      <defs>\n       <path d=\"M 0 0 \nL -3.5 0 \n\" id=\"mf8a58c16a1\" style=\"stroke:#000000;stroke-width:0.8;\"/>\n      </defs>\n      <g>\n       <use style=\"stroke:#000000;stroke-width:0.8;\" x=\"41.721875\" xlink:href=\"#mf8a58c16a1\" y=\"229.044375\"/>\n      </g>\n     </g>\n     <g id=\"text_7\">\n      <!-- 80 -->\n      <g transform=\"translate(22.373125 233.44875)scale(0.12 -0.12)\">\n       <defs>\n        <path d=\"M 1581 -64 \nC 2445 -64 2931 467 2931 1139 \nC 2931 1760 2592 2074 2106 2330 \nC 2490 2541 2822 2899 2822 3424 \nC 2822 4077 2394 4499 1606 4499 \nC 819 4499 384 4013 384 3398 \nC 384 2848 678 2509 1069 2285 \nC 602 2054 230 1683 230 1082 \nC 230 384 710 -64 1581 -64 \nz\nM 1587 390 \nC 1082 390 768 678 768 1126 \nC 768 1581 1037 1894 1414 2080 \nC 2029 1792 2387 1574 2387 1082 \nC 2387 614 2054 390 1587 390 \nz\nM 1754 2522 \nC 1210 2778 928 3021 928 3430 \nC 928 3821 1171 4051 1606 4051 \nC 2067 4051 2285 3782 2285 3398 \nC 2285 3008 2099 2765 1754 2522 \nz\n\" id=\"GuardianSansCond-Regular-38\" transform=\"scale(0.015625)\"/>\n       </defs>\n       <use xlink:href=\"#GuardianSansCond-Regular-38\"/>\n       <use x=\"49.399994\" xlink:href=\"#GuardianSansCond-Regular-30\"/>\n      </g>\n     </g>\n    </g>\n    <g id=\"ytick_2\">\n     <g id=\"line2d_7\">\n      <g>\n       <use style=\"stroke:#000000;stroke-width:0.8;\" x=\"41.721875\" xlink:href=\"#mf8a58c16a1\" y=\"185.556375\"/>\n      </g>\n     </g>\n     <g id=\"text_8\">\n      <!-- 82 -->\n      <g transform=\"translate(23.693125 189.96075)scale(0.12 -0.12)\">\n       <use xlink:href=\"#GuardianSansCond-Regular-38\"/>\n       <use x=\"49.399994\" xlink:href=\"#GuardianSansCond-Regular-32\"/>\n      </g>\n     </g>\n    </g>\n    <g id=\"ytick_3\">\n     <g id=\"line2d_8\">\n      <g>\n       <use style=\"stroke:#000000;stroke-width:0.8;\" x=\"41.721875\" xlink:href=\"#mf8a58c16a1\" y=\"142.068375\"/>\n      </g>\n     </g>\n     <g id=\"text_9\">\n      <!-- 84 -->\n      <g transform=\"translate(23.104375 146.47275)scale(0.12 -0.12)\">\n       <use xlink:href=\"#GuardianSansCond-Regular-38\"/>\n       <use x=\"49.399994\" xlink:href=\"#GuardianSansCond-Regular-34\"/>\n      </g>\n     </g>\n    </g>\n    <g id=\"ytick_4\">\n     <g id=\"line2d_9\">\n      <g>\n       <use style=\"stroke:#000000;stroke-width:0.8;\" x=\"41.721875\" xlink:href=\"#mf8a58c16a1\" y=\"98.580375\"/>\n      </g>\n     </g>\n     <g id=\"text_10\">\n      <!-- 86 -->\n      <g transform=\"translate(22.924375 102.98475)scale(0.12 -0.12)\">\n       <defs>\n        <path d=\"M 1632 384 \nC 1082 384 845 915 845 1837 \nL 845 2054 \nC 992 2150 1254 2278 1594 2278 \nC 2086 2278 2323 1984 2323 1357 \nC 2323 742 2086 384 1632 384 \nz\nM 1632 -70 \nC 2438 -70 2886 544 2886 1408 \nC 2886 2234 2490 2746 1754 2746 \nC 1363 2746 1056 2611 845 2445 \nC 877 3853 1440 4038 2029 4038 \nC 2291 4038 2554 3974 2688 3930 \nL 2688 4352 \nC 2547 4442 2272 4499 1958 4499 \nC 1043 4499 275 3981 275 2208 \nL 275 1843 \nC 275 691 717 -70 1632 -70 \nz\n\" id=\"GuardianSansCond-Regular-36\" transform=\"scale(0.015625)\"/>\n       </defs>\n       <use xlink:href=\"#GuardianSansCond-Regular-38\"/>\n       <use x=\"49.399994\" xlink:href=\"#GuardianSansCond-Regular-36\"/>\n      </g>\n     </g>\n    </g>\n    <g id=\"ytick_5\">\n     <g id=\"line2d_10\">\n      <g>\n       <use style=\"stroke:#000000;stroke-width:0.8;\" x=\"41.721875\" xlink:href=\"#mf8a58c16a1\" y=\"55.092375\"/>\n      </g>\n     </g>\n     <g id=\"text_11\">\n      <!-- 88 -->\n      <g transform=\"translate(22.864375 59.49675)scale(0.12 -0.12)\">\n       <use xlink:href=\"#GuardianSansCond-Regular-38\"/>\n       <use x=\"49.399994\" xlink:href=\"#GuardianSansCond-Regular-38\"/>\n      </g>\n     </g>\n    </g>\n    <g id=\"ytick_6\">\n     <g id=\"line2d_11\">\n      <g>\n       <use style=\"stroke:#000000;stroke-width:0.8;\" x=\"41.721875\" xlink:href=\"#mf8a58c16a1\" y=\"11.604375\"/>\n      </g>\n     </g>\n     <g id=\"text_12\">\n      <!-- 90 -->\n      <g transform=\"translate(22.433125 16.00875)scale(0.12 -0.12)\">\n       <defs>\n        <path d=\"M 1171 -70 \nC 2176 -70 2854 448 2854 2221 \nL 2854 2586 \nC 2854 3795 2432 4499 1523 4499 \nC 691 4499 243 3917 243 3021 \nC 243 2202 653 1683 1389 1683 \nC 1766 1683 2074 1818 2285 1984 \nC 2266 608 1798 397 1107 397 \nC 851 397 563 467 429 518 \nL 429 96 \nC 563 0 858 -70 1171 -70 \nz\nM 1542 2150 \nC 1056 2150 806 2445 806 3072 \nC 806 3712 1043 4045 1523 4045 \nC 2048 4045 2285 3558 2285 2592 \nL 2285 2374 \nC 2138 2272 1882 2150 1542 2150 \nz\n\" id=\"GuardianSansCond-Regular-39\" transform=\"scale(0.015625)\"/>\n       </defs>\n       <use xlink:href=\"#GuardianSansCond-Regular-39\"/>\n       <use x=\"48.899994\" xlink:href=\"#GuardianSansCond-Regular-30\"/>\n      </g>\n     </g>\n    </g>\n    <g id=\"text_13\">\n     <!-- Accuracy (%) -->\n     <g transform=\"translate(16.00875 148.187813)rotate(-90)scale(0.12 -0.12)\">\n      <defs>\n       <path d=\"M 1158 -51 \nC 1523 -51 1824 109 2042 262 \nL 2067 262 \nL 2118 0 \nL 2566 0 \nL 2566 3283 \nL 2042 3283 \nL 2042 602 \nC 1888 512 1626 397 1350 397 \nC 947 397 858 557 858 838 \nL 858 3283 \nL 333 3283 \nL 333 826 \nC 333 301 576 -51 1158 -51 \nz\n\" id=\"GuardianSansCond-Regular-75\" transform=\"scale(0.015625)\"/>\n       <path d=\"M 755 -256 \nL 1210 -256 \nL 3770 4563 \nL 3309 4563 \nL 755 -256 \nz\nM 1082 2176 \nC 1677 2176 1984 2637 1984 3315 \nL 1984 3411 \nC 1984 4109 1664 4499 1075 4499 \nC 493 4499 173 4064 173 3392 \nL 173 3290 \nC 173 2560 493 2176 1082 2176 \nz\nM 1088 2547 \nC 794 2547 640 2739 640 3264 \nL 640 3437 \nC 640 3942 800 4134 1082 4134 \nC 1357 4134 1517 3936 1517 3430 \nL 1517 3258 \nC 1517 2739 1376 2547 1088 2547 \nz\nM 3501 -58 \nC 4090 -58 4403 403 4403 1082 \nL 4403 1178 \nC 4403 1875 4083 2266 3494 2266 \nC 2912 2266 2592 1830 2592 1158 \nL 2592 1056 \nC 2592 326 2912 -58 3501 -58 \nz\nM 3507 307 \nC 3213 307 3059 506 3059 1030 \nL 3059 1203 \nC 3059 1709 3219 1901 3501 1901 \nC 3776 1901 3936 1702 3936 1197 \nL 3936 1024 \nC 3936 506 3795 307 3507 307 \nz\n\" id=\"GuardianSansCond-Regular-25\" transform=\"scale(0.015625)\"/>\n      </defs>\n      <use xlink:href=\"#GuardianSansCond-Regular-41\"/>\n      <use x=\"51.099991\" xlink:href=\"#GuardianSansCond-Regular-63\"/>\n      <use x=\"88.899979\" xlink:href=\"#GuardianSansCond-Regular-63\"/>\n      <use x=\"126.699966\" xlink:href=\"#GuardianSansCond-Regular-75\"/>\n      <use x=\"172.199951\" xlink:href=\"#GuardianSansCond-Regular-72\"/>\n      <use x=\"200.999939\" xlink:href=\"#GuardianSansCond-Regular-61\"/>\n      <use x=\"241.899933\" xlink:href=\"#GuardianSansCond-Regular-63\"/>\n      <use x=\"279.699921\" xlink:href=\"#GuardianSansCond-Regular-79\"/>\n      <use x=\"321.099915\" xlink:href=\"#GuardianSansCond-Regular-20\"/>\n      <use x=\"336.899902\" xlink:href=\"#GuardianSansCond-Regular-28\"/>\n      <use x=\"364.899887\" xlink:href=\"#GuardianSansCond-Regular-25\"/>\n      <use x=\"436.399872\" xlink:href=\"#GuardianSansCond-Regular-29\"/>\n     </g>\n    </g>\n   </g>\n   <g id=\"patch_3\">\n    <path d=\"M 41.721875 229.044375 \nL 41.721875 11.604375 \n\" style=\"fill:none;stroke:#000000;stroke-linecap:square;stroke-linejoin:miter;stroke-width:0.8;\"/>\n   </g>\n   <g id=\"patch_4\">\n    <path d=\"M 376.521875 229.044375 \nL 376.521875 11.604375 \n\" style=\"fill:none;stroke:#000000;stroke-linecap:square;stroke-linejoin:miter;stroke-width:0.8;\"/>\n   </g>\n   <g id=\"patch_5\">\n    <path d=\"M 41.721875 229.044375 \nL 376.521875 229.044375 \n\" style=\"fill:none;stroke:#000000;stroke-linecap:square;stroke-linejoin:miter;stroke-width:0.8;\"/>\n   </g>\n   <g id=\"patch_6\">\n    <path d=\"M 41.721875 11.604375 \nL 376.521875 11.604375 \n\" style=\"fill:none;stroke:#000000;stroke-linecap:square;stroke-linejoin:miter;stroke-width:0.8;\"/>\n   </g>\n   <g id=\"legend_1\">\n    <g id=\"patch_7\">\n     <path d=\"M 270.321875 55.404375 \nL 368.121875 55.404375 \nQ 370.521875 55.404375 370.521875 53.004375 \nL 370.521875 20.004375 \nQ 370.521875 17.604375 368.121875 17.604375 \nL 270.321875 17.604375 \nQ 267.921875 17.604375 267.921875 20.004375 \nL 267.921875 53.004375 \nQ 267.921875 55.404375 270.321875 55.404375 \nz\n\" style=\"fill:#ffffff;opacity:0.8;stroke:#cccccc;stroke-linejoin:miter;\"/>\n    </g>\n    <g id=\"PathCollection_3\">\n     <defs>\n      <path d=\"M 0 2.236068 \nC 0.593012 2.236068 1.161816 2.000462 1.581139 1.581139 \nC 2.000462 1.161816 2.236068 0.593012 2.236068 0 \nC 2.236068 -0.593012 2.000462 -1.161816 1.581139 -1.581139 \nC 1.161816 -2.000462 0.593012 -2.236068 0 -2.236068 \nC -0.593012 -2.236068 -1.161816 -2.000462 -1.581139 -1.581139 \nC -2.000462 -1.161816 -2.236068 -0.593012 -2.236068 0 \nC -2.236068 0.593012 -2.000462 1.161816 -1.581139 1.581139 \nC -1.161816 2.000462 -0.593012 2.236068 0 2.236068 \nz\n\" id=\"md7b3217fb7\" style=\"stroke:#0071bc;stroke-opacity:0.5;\"/>\n     </defs>\n     <g>\n      <use style=\"fill:#0071bc;fill-opacity:0.5;stroke:#0071bc;stroke-opacity:0.5;\" x=\"284.721875\" xlink:href=\"#md7b3217fb7\" y=\"28.063125\"/>\n     </g>\n    </g>\n    <g id=\"text_14\">\n     <!-- BERT baseline -->\n     <g transform=\"translate(306.321875 31.213125)scale(0.12 -0.12)\">\n      <defs>\n       <path d=\"M 416 0 \nL 1562 0 \nC 2528 0 2944 493 2944 1254 \nC 2944 1965 2618 2253 2112 2323 \nL 2112 2349 \nC 2605 2483 2790 2842 2790 3334 \nC 2790 4026 2464 4435 1517 4435 \nL 416 4435 \nL 416 0 \nz\nM 954 454 \nL 954 2074 \nL 1517 2074 \nC 2086 2074 2381 1875 2381 1293 \nC 2381 736 2157 454 1517 454 \nL 954 454 \nz\nM 954 2515 \nL 954 3974 \nL 1453 3974 \nC 1978 3974 2240 3814 2240 3264 \nC 2240 2707 1920 2515 1402 2515 \nL 954 2515 \nz\n\" id=\"GuardianSansCond-Regular-42\" transform=\"scale(0.015625)\"/>\n       <path d=\"M 416 0 \nL 2650 0 \nL 2650 461 \nL 954 461 \nL 954 2067 \nL 2266 2067 \nL 2266 2522 \nL 954 2522 \nL 954 3974 \nL 2630 3974 \nL 2630 4435 \nL 416 4435 \nL 416 0 \nz\n\" id=\"GuardianSansCond-Regular-45\" transform=\"scale(0.015625)\"/>\n       <path d=\"M 416 0 \nL 954 0 \nL 954 1888 \nL 1574 1888 \nL 2483 0 \nL 3066 0 \nL 2093 1990 \nL 2093 2022 \nC 2528 2182 2810 2502 2810 3168 \nC 2810 4058 2400 4435 1485 4435 \nL 416 4435 \nL 416 0 \nz\nM 954 2330 \nL 954 3974 \nL 1446 3974 \nC 2035 3974 2240 3744 2240 3149 \nC 2240 2586 2016 2330 1472 2330 \nL 954 2330 \nz\n\" id=\"GuardianSansCond-Regular-52\" transform=\"scale(0.015625)\"/>\n       <path d=\"M 1152 0 \nL 1690 0 \nL 1690 3974 \nL 2746 3974 \nL 2746 4435 \nL 90 4435 \nL 90 3974 \nL 1152 3974 \nL 1152 0 \nz\n\" id=\"GuardianSansCond-Regular-54\" transform=\"scale(0.015625)\"/>\n       <path d=\"M 1382 -64 \nC 2317 -64 2784 531 2784 1619 \nL 2784 1843 \nC 2784 2995 2285 3334 1702 3334 \nC 1338 3334 1075 3219 896 3104 \nL 870 3104 \nL 870 4698 \nL 346 4698 \nL 346 102 \nC 557 19 1005 -64 1382 -64 \nz\nM 1408 378 \nC 1165 378 979 416 870 454 \nL 870 2733 \nC 992 2790 1216 2893 1491 2893 \nC 2003 2893 2246 2650 2246 1818 \nL 2246 1549 \nC 2246 627 1875 378 1408 378 \nz\n\" id=\"GuardianSansCond-Regular-62\" transform=\"scale(0.015625)\"/>\n       <path d=\"M 358 0 \nL 883 0 \nL 883 3283 \nL 358 3283 \nL 358 0 \nz\nM 352 3910 \nL 883 3910 \nL 883 4474 \nL 352 4474 \nL 352 3910 \nz\n\" id=\"GuardianSansCond-Regular-69\" transform=\"scale(0.015625)\"/>\n      </defs>\n      <use xlink:href=\"#GuardianSansCond-Regular-42\"/>\n      <use x=\"48.999985\" xlink:href=\"#GuardianSansCond-Regular-45\"/>\n      <use x=\"93.899979\" xlink:href=\"#GuardianSansCond-Regular-52\"/>\n      <use x=\"142.599976\" xlink:href=\"#GuardianSansCond-Regular-54\"/>\n      <use x=\"187.09996\" xlink:href=\"#GuardianSansCond-Regular-20\"/>\n      <use x=\"202.899948\" xlink:href=\"#GuardianSansCond-Regular-62\"/>\n      <use x=\"249.499939\" xlink:href=\"#GuardianSansCond-Regular-61\"/>\n      <use x=\"290.399933\" xlink:href=\"#GuardianSansCond-Regular-73\"/>\n      <use x=\"324.899918\" xlink:href=\"#GuardianSansCond-Regular-65\"/>\n      <use x=\"367.599915\" xlink:href=\"#GuardianSansCond-Regular-6c\"/>\n      <use x=\"386.899902\" xlink:href=\"#GuardianSansCond-Regular-69\"/>\n      <use x=\"406.19989\" xlink:href=\"#GuardianSansCond-Regular-6e\"/>\n      <use x=\"452.299881\" xlink:href=\"#GuardianSansCond-Regular-65\"/>\n     </g>\n    </g>\n    <g id=\"PathCollection_4\">\n     <defs>\n      <path d=\"M -1.305371 1.039763 \nQ -1.190745 1.200582 -1.033347 1.331461 \nQ -0.910167 1.433256 -0.760468 1.518798 \nL -0.891348 1.801942 \nQ -1.078685 1.695015 -1.230949 1.566702 \nQ -1.431118 1.403317 -1.573117 1.205715 \nL -1.305371 1.039763 \nz\nM 1.062432 1.518798 \nQ 1.21213 1.433256 1.335311 1.331461 \nQ 1.474744 1.213413 1.60819 1.039763 \nL 1.875081 1.203148 \nQ 1.717683 1.411015 1.532913 1.566702 \nQ 1.380648 1.695015 1.190745 1.801942 \nL 1.062432 1.518798 \nz\nM 1.60819 -1.039763 \nQ 1.490142 -1.200582 1.335311 -1.331461 \nQ 1.21213 -1.433256 1.062432 -1.518798 \nL 1.190745 -1.801942 \nQ 1.380648 -1.695015 1.532913 -1.566702 \nQ 1.73137 -1.403317 1.875081 -1.205715 \nL 1.60819 -1.039763 \nz\nM -0.760468 -1.518798 \nQ -0.910167 -1.433256 -1.033347 -1.331461 \nQ -1.190745 -1.200582 -1.305371 -1.039763 \nL -1.573117 -1.205715 \nQ -1.442238 -1.390485 -1.230949 -1.566702 \nQ -1.078685 -1.695015 -0.891348 -1.801942 \nL -0.760468 -1.518798 \nz\nM -0.257481 1.737786 \nQ -0.054747 1.79681 0.150554 1.79681 \nQ 0.35671 1.79681 0.5603 1.737786 \nL 0.662095 2.03205 \nQ 0.408035 2.103906 0.151409 2.103906 \nQ -0.105217 2.103906 -0.361843 2.03205 \nL -0.257481 1.737786 \nz\nM 1.888767 0.409318 \nQ 1.931538 0.213427 1.931538 -0.000428 \nQ 1.931538 -0.214283 1.888767 -0.409318 \nL 2.183032 -0.51368 \nQ 2.236068 -0.269885 2.236068 0.000428 \nQ 2.236068 0.269885 2.183032 0.512824 \nL 1.888767 0.409318 \nz\nM 0.5603 -1.737786 \nQ 0.35671 -1.79681 0.150554 -1.79681 \nQ -0.054747 -1.79681 -0.257481 -1.737786 \nL -0.361843 -2.03205 \nQ -0.105217 -2.103906 0.151409 -2.103906 \nQ 0.408035 -2.103906 0.662095 -2.03205 \nL 0.5603 -1.737786 \nz\nM -1.583382 -0.409318 \nQ -1.626153 -0.214283 -1.626153 -0.000428 \nQ -1.626153 0.213427 -1.583382 0.409318 \nL -1.877647 0.512824 \nQ -1.931538 0.269885 -1.931538 0.000428 \nQ -1.931538 -0.269885 -1.877647 -0.51368 \nL -1.583382 -0.409318 \nz\n\" id=\"m19948a44e2\" style=\"stroke:#f7931e;stroke-opacity:0.5;\"/>\n     </defs>\n     <g>\n      <use style=\"fill:#f7931e;fill-opacity:0.5;stroke:#f7931e;stroke-opacity:0.5;\" x=\"284.721875\" xlink:href=\"#m19948a44e2\" y=\"45.163125\"/>\n     </g>\n    </g>\n    <g id=\"text_15\">\n     <!-- DistilBERT -->\n     <g transform=\"translate(306.321875 48.313125)scale(0.12 -0.12)\">\n      <defs>\n       <path d=\"M 416 0 \nL 1498 0 \nC 2714 0 3270 813 3270 2163 \nL 3270 2400 \nC 3270 3802 2637 4435 1491 4435 \nL 416 4435 \nL 416 0 \nz\nM 954 461 \nL 954 3974 \nL 1446 3974 \nC 2234 3974 2694 3603 2694 2400 \nL 2694 2074 \nC 2694 941 2323 461 1510 461 \nL 954 461 \nz\n\" id=\"GuardianSansCond-Regular-44\" transform=\"scale(0.015625)\"/>\n      </defs>\n      <use xlink:href=\"#GuardianSansCond-Regular-44\"/>\n      <use x=\"54.599991\" xlink:href=\"#GuardianSansCond-Regular-69\"/>\n      <use x=\"73.899979\" xlink:href=\"#GuardianSansCond-Regular-73\"/>\n      <use x=\"108.399963\" xlink:href=\"#GuardianSansCond-Regular-74\"/>\n      <use x=\"137.399948\" xlink:href=\"#GuardianSansCond-Regular-69\"/>\n      <use x=\"156.699936\" xlink:href=\"#GuardianSansCond-Regular-6c\"/>\n      <use x=\"175.999924\" xlink:href=\"#GuardianSansCond-Regular-42\"/>\n      <use x=\"224.999908\" xlink:href=\"#GuardianSansCond-Regular-45\"/>\n      <use x=\"269.899902\" xlink:href=\"#GuardianSansCond-Regular-52\"/>\n      <use x=\"318.599899\" xlink:href=\"#GuardianSansCond-Regular-54\"/>\n     </g>\n    </g>\n   </g>\n  </g>\n </g>\n <defs>\n  <clipPath id=\"pf35a93c602\">\n   <rect height=\"217.44\" width=\"334.8\" x=\"41.721875\" y=\"11.604375\"/>\n  </clipPath>\n </defs>\n</svg>\n",
      "text/plain": [
       "<Figure size 432x288 with 1 Axes>"
      ]
     },
     "metadata": {
      "needs_background": "light"
     },
     "output_type": "display_data"
    }
   ],
   "source": [
    "import pandas as pd\n",
    "\n",
    "def plot_metrics(perf_metrics, current_optim_type):\n",
    "    df = pd.DataFrame.from_dict(perf_metrics, orient='index')\n",
    "\n",
    "    for idx in df.index:\n",
    "        df_opt = df.loc[idx]\n",
    "        # Add a dashed circle around the current optimization type\n",
    "        if idx == current_optim_type:\n",
    "            plt.scatter(df_opt[\"time_avg_ms\"], df_opt[\"accuracy\"] * 100, \n",
    "                        alpha=0.5, s=df_opt[\"size_mb\"], label=idx, \n",
    "                        marker='$\\u25CC$')\n",
    "        else:\n",
    "            plt.scatter(df_opt[\"time_avg_ms\"], df_opt[\"accuracy\"] * 100, \n",
    "                        s=df_opt[\"size_mb\"], label=idx, alpha=0.5)\n",
    "            \n",
    "    legend = plt.legend(bbox_to_anchor=(1,1))\n",
    "    for handle in legend.legendHandles:\n",
    "        handle.set_sizes([20])\n",
    "\n",
    "    plt.ylim(80,90)\n",
    "    # Use the slowest model to define the x-axis range\n",
    "    xlim = int(perf_metrics[\"BERT baseline\"][\"time_avg_ms\"] + 3)\n",
    "    plt.xlim(1, xlim)\n",
    "    plt.ylabel(\"Accuracy (%)\")\n",
    "    plt.xlabel(\"Average latency (ms)\")\n",
    "    plt.show()\n",
    "    \n",
    "plot_metrics(perf_metrics, optim_type)"
   ]
  },
  {
   "cell_type": "markdown",
   "metadata": {},
   "source": [
    "### Finding Good Hyperparameters with Optuna"
   ]
  },
  {
   "cell_type": "code",
   "execution_count": null,
   "metadata": {},
   "outputs": [],
   "source": [
    "#hide_input\n",
    "#id banana-function\n",
    "#alt A banana plot\n",
    "#caption Plot of the Rosenbrock function of two variables \n",
    "import matplotlib.pyplot as plt\n",
    "import numpy as np\n",
    "\n",
    "def f(x, y):\n",
    "    return (1-x)**2+100*(y-x**2)**2\n",
    "    \n",
    "X, Y = np.meshgrid(np.linspace(-2, 2, 250), np.linspace(-1, 3, 250))\n",
    "Z = f(X,Y)\n",
    "_, ax = plt.subplots()\n",
    "ax.plot([1], [1], 'x', mew=3, markersize=10, color=\"red\")\n",
    "ax.contourf(X, Y, Z, np.logspace(-1, 3, 30), cmap='viridis', extend=\"both\")\n",
    "ax.set_xlim(-1.3, 1.3)\n",
    "ax.set_ylim(-0.9, 1.7)\n",
    "plt.show()"
   ]
  },
  {
   "cell_type": "code",
   "execution_count": null,
   "metadata": {},
   "outputs": [],
   "source": [
    "def objective(trial):\n",
    "    x = trial.suggest_float(\"x\", -2, 2)\n",
    "    y = trial.suggest_float(\"y\", -2, 2)\n",
    "    return (1 - x) ** 2 + 100 * (y - x ** 2) ** 2"
   ]
  },
  {
   "cell_type": "code",
   "execution_count": null,
   "metadata": {},
   "outputs": [],
   "source": [
    "#hide_output\n",
    "import optuna \n",
    "\n",
    "study = optuna.create_study()\n",
    "study.optimize(objective, n_trials=1000)"
   ]
  },
  {
   "cell_type": "code",
   "execution_count": null,
   "metadata": {},
   "outputs": [],
   "source": [
    "study.best_params"
   ]
  },
  {
   "cell_type": "code",
   "execution_count": null,
   "metadata": {},
   "outputs": [],
   "source": [
    "def hp_space(trial):\n",
    "    return {\"num_train_epochs\": trial.suggest_int(\"num_train_epochs\", 5, 10),\n",
    "        \"alpha\": trial.suggest_float(\"alpha\", 0, 1),\n",
    "        \"temperature\": trial.suggest_int(\"temperature\", 2, 20)}"
   ]
  },
  {
   "cell_type": "code",
   "execution_count": null,
   "metadata": {},
   "outputs": [],
   "source": [
    "#hide_output\n",
    "best_run = distilbert_trainer.hyperparameter_search(\n",
    "    n_trials=20, direction=\"maximize\", hp_space=hp_space)"
   ]
  },
  {
   "cell_type": "code",
   "execution_count": null,
   "metadata": {},
   "outputs": [],
   "source": [
    "print(best_run)"
   ]
  },
  {
   "cell_type": "code",
   "execution_count": null,
   "metadata": {},
   "outputs": [],
   "source": [
    "#hide_output\n",
    "for k,v in best_run.hyperparameters.items():\n",
    "    setattr(student_training_args, k, v)\n",
    "    \n",
    "# Define a new repository to store our distilled model\n",
    "distilled_ckpt = \"distilbert-base-uncased-distilled-clinc\"\n",
    "student_training_args.output_dir = distilled_ckpt\n",
    "\n",
    "# Create a new Trainer with optimal parameters\n",
    "distil_trainer = DistillationTrainer(model_init=student_init,\n",
    "    teacher_model=teacher_model, args=student_training_args,\n",
    "    train_dataset=clinc_enc['train'], eval_dataset=clinc_enc['validation'],\n",
    "    compute_metrics=compute_metrics, tokenizer=student_tokenizer)\n",
    "\n",
    "distil_trainer.train();"
   ]
  },
  {
   "cell_type": "code",
   "execution_count": null,
   "metadata": {},
   "outputs": [],
   "source": [
    "#hide_output\n",
    "distil_trainer.push_to_hub(\"Training complete\")"
   ]
  },
  {
   "cell_type": "markdown",
   "metadata": {},
   "source": [
    "### Benchmarking Our Distilled Model"
   ]
  },
  {
   "cell_type": "code",
   "execution_count": null,
   "metadata": {},
   "outputs": [],
   "source": [
    "distilled_ckpt = \"transformersbook/distilbert-base-uncased-distilled-clinc\"\n",
    "pipe = pipeline(\"text-classification\", model=distilled_ckpt)\n",
    "optim_type = \"Distillation\"\n",
    "pb = PerformanceBenchmark(pipe, clinc[\"test\"], optim_type=optim_type)\n",
    "perf_metrics.update(pb.run_benchmark())"
   ]
  },
  {
   "cell_type": "code",
   "execution_count": null,
   "metadata": {},
   "outputs": [],
   "source": [
    "plot_metrics(perf_metrics, optim_type)"
   ]
  },
  {
   "cell_type": "markdown",
   "metadata": {},
   "source": [
    "## Making Models Faster with Quantization"
   ]
  },
  {
   "cell_type": "markdown",
   "metadata": {},
   "source": [
    "### Sidebar: A Primer on Floating-Point and Fixed-Point Numbers"
   ]
  },
  {
   "cell_type": "markdown",
   "metadata": {},
   "source": [
    "### End sidebar"
   ]
  },
  {
   "cell_type": "markdown",
   "metadata": {},
   "source": [
    "<img alt=\"Mapping floating-point numbers to 8-bit integers\" width=\"800\" caption=\"Quantizing floating-point numbers as unsigned 8-bit integers (courtesy of Manas Sahni)\" src=\"images/chapter08_fp32-to-int8.png\" id=\"fp32toint8\"/>"
   ]
  },
  {
   "cell_type": "code",
   "execution_count": null,
   "metadata": {},
   "outputs": [],
   "source": [
    "import matplotlib.pyplot as plt\n",
    "\n",
    "state_dict = pipe.model.state_dict()\n",
    "weights = state_dict[\"distilbert.transformer.layer.0.attention.out_lin.weight\"]\n",
    "plt.hist(weights.flatten().numpy(), bins=250, range=(-0.3,0.3), edgecolor=\"C0\")\n",
    "plt.show()"
   ]
  },
  {
   "cell_type": "code",
   "execution_count": null,
   "metadata": {},
   "outputs": [],
   "source": [
    "zero_point = 0\n",
    "scale = (weights.max() - weights.min()) / (127 - (-128))"
   ]
  },
  {
   "cell_type": "code",
   "execution_count": null,
   "metadata": {},
   "outputs": [],
   "source": [
    "(weights / scale + zero_point).clamp(-128, 127).round().char()"
   ]
  },
  {
   "cell_type": "code",
   "execution_count": null,
   "metadata": {},
   "outputs": [],
   "source": [
    "from torch import quantize_per_tensor\n",
    "\n",
    "dtype = torch.qint8\n",
    "quantized_weights = quantize_per_tensor(weights, scale, zero_point, dtype)\n",
    "quantized_weights.int_repr()"
   ]
  },
  {
   "cell_type": "code",
   "execution_count": null,
   "metadata": {},
   "outputs": [],
   "source": [
    "#hide_input\n",
    "#id weight-quantization\n",
    "#alt Effect of quantization on a transformer's weights\n",
    "#caption Effect of quantization on a transformer's weights\n",
    "from mpl_toolkits.axes_grid1.inset_locator import zoomed_inset_axes,mark_inset\n",
    "\n",
    "# Create histogram\n",
    "fig, ax = plt.subplots()\n",
    "ax.hist(quantized_weights.dequantize().flatten().numpy(), \n",
    "         bins=250, range=(-0.3,0.3), edgecolor=\"C0\");\n",
    "# Create zoom inset\n",
    "axins = zoomed_inset_axes(ax, 5, loc='upper right')\n",
    "axins.hist(quantized_weights.dequantize().flatten().numpy(), \n",
    "         bins=250, range=(-0.3,0.3));\n",
    "x1, x2, y1, y2 = 0.05, 0.1, 500, 2500\n",
    "axins.set_xlim(x1, x2)\n",
    "axins.set_ylim(y1, y2)\n",
    "axins.axes.xaxis.set_visible(False)\n",
    "axins.axes.yaxis.set_visible(False)\n",
    "mark_inset(ax, axins, loc1=2, loc2=4, fc=\"none\", ec=\"0.5\")\n",
    "plt.show()"
   ]
  },
  {
   "cell_type": "code",
   "execution_count": null,
   "metadata": {},
   "outputs": [],
   "source": [
    "%%timeit \n",
    "weights @ weights"
   ]
  },
  {
   "cell_type": "code",
   "execution_count": null,
   "metadata": {},
   "outputs": [],
   "source": [
    "from torch.nn.quantized import QFunctional\n",
    "\n",
    "q_fn = QFunctional()"
   ]
  },
  {
   "cell_type": "code",
   "execution_count": null,
   "metadata": {},
   "outputs": [],
   "source": [
    "%%timeit\n",
    "q_fn.mul(quantized_weights, quantized_weights)"
   ]
  },
  {
   "cell_type": "code",
   "execution_count": null,
   "metadata": {},
   "outputs": [
    {
     "data": {
      "text/plain": [
       "3.999633833760527"
      ]
     },
     "execution_count": null,
     "metadata": {},
     "output_type": "execute_result"
    }
   ],
   "source": [
    "import sys\n",
    "\n",
    "sys.getsizeof(weights.storage()) / sys.getsizeof(quantized_weights.storage())"
   ]
  },
     "metadata": {},
     "output_type": "display_data"
    },
    {
   "cell_type": "code",
   "execution_count": null,
   "metadata": {},
   "outputs": [],
   "source": [
    "#hide_output\n",
    "from torch.quantization import quantize_dynamic\n",
    "\n",
    "model_ckpt = \"transformersbook/distilbert-base-uncased-distilled-clinc\"\n",
    "tokenizer = AutoTokenizer.from_pretrained(model_ckpt)\n",
    "model = (AutoModelForSequenceClassification\n",
    "         .from_pretrained(model_ckpt).to(\"cpu\"))\n",
    "\n",
    "model_quantized = quantize_dynamic(model, {nn.Linear}, dtype=torch.qint8)"
   ]
  },
  {
   "cell_type": "markdown",
   "metadata": {},
   "source": [
    "### Benchmarking Our Quantized Model"
   ]
  },
  {
   "cell_type": "code",
   "execution_count": 33,
   "metadata": {},
   "outputs": [
    {
     "name": "stdout",
     "output_type": "stream",
     "text": [
      "Model size (MB) - 132.40\n",
      "Average latency (ms) - 12.54 +\\- 0.73\n",
      "Accuracy on test set - 0.876\n"
     ]
    }
   ],
   "source": [
    "pipe = pipeline(\"text-classification\", model=model_quantized, \n",
    "                tokenizer=tokenizer)\n",
    "optim_type = \"Distillation + quantization\"\n",
    "pb = PerformanceBenchmark(pipe, clinc[\"test\"], optim_type=optim_type)\n",
    "perf_metrics.update(pb.run_benchmark())"
   ]
  },
  {
   "cell_type": "code",
   "execution_count": null,
   "metadata": {},
   "outputs": [],
   "source": [
    "plot_metrics(perf_metrics, optim_type)"
   ]
  },
  {
   "cell_type": "markdown",
   "metadata": {},
   "source": [
    "## Optimizing Inference with ONNX and the ONNX Runtime"
   ]
  },
  {
   "cell_type": "markdown",
   "metadata": {},
   "source": [
    "<img alt=\"Example ONNX graph\" width=\"500\" caption=\"A section of the ONNX graph for BERT-base, visualized in Netron\" src=\"images/chapter08_bert-onnx.png\" id=\"bert-onnx\"/>"
   ]
  },
  {
   "cell_type": "markdown",
   "metadata": {},
   "source": [
    "<img alt=\"Architecture of the ONNX and ONNX Runtime ecosystem\" width=\"500\" caption=\"Architecture of the ONNX and ONNX Runtime ecosystem (courtesy of the ONNX Runtime team)\" src=\"images/chapter08_onnx-ort.png\" id=\"onnx-ort\"/>"
   ]
  },
  {
   "cell_type": "code",
   "execution_count": null,
   "metadata": {},
   "outputs": [],
   "source": [
    "#hide_output\n",
    "import os\n",
    "from psutil import cpu_count\n",
    "\n",
    "os.environ[\"OMP_NUM_THREADS\"] = f\"{cpu_count()}\"\n",
    "os.environ[\"OMP_WAIT_POLICY\"] = \"ACTIVE\""
   ]
  },
  {
   "cell_type": "code",
   "execution_count": null,
   "metadata": {},
   "outputs": [],
   "source": [
    "#hide_output\n",
    "from transformers.convert_graph_to_onnx import convert\n",
    "\n",
    "model_ckpt = \"transformersbook/distilbert-base-uncased-distilled-clinc\"\n",
    "onnx_model_path = Path(\"onnx/model.onnx\")\n",
    "convert(framework=\"pt\", model=model_ckpt, tokenizer=tokenizer, \n",
    "        output=onnx_model_path, opset=12, pipeline_name=\"text-classification\")"
   ]
  },
  {
   "cell_type": "code",
   "execution_count": null,
   "metadata": {},
   "outputs": [],
   "source": [
    "from onnxruntime import (GraphOptimizationLevel, InferenceSession, \n",
    "                         SessionOptions)\n",
    "\n",
    "def create_model_for_provider(model_path, provider=\"CPUExecutionProvider\"): \n",
    "    options = SessionOptions()\n",
    "    options.intra_op_num_threads = 1\n",
    "    options.graph_optimization_level = GraphOptimizationLevel.ORT_ENABLE_ALL\n",
    "    session = InferenceSession(str(model_path), options, providers=[provider])\n",
    "    session.disable_fallback()\n",
    "    return session"
   ]
  },
  {
   "cell_type": "code",
   "execution_count": null,
   "metadata": {},
   "outputs": [],
   "source": [
    "onnx_model = create_model_for_provider(onnx_model_path)"
   ]
  },
  {
   "cell_type": "code",
   "execution_count": null,
   "metadata": {},
   "outputs": [],
   "source": [
    "inputs = clinc_enc[\"test\"][:1]\n",
    "del inputs[\"labels\"]\n",
    "logits_onnx = onnx_model.run(None, inputs)[0]\n",
    "logits_onnx.shape"
   ]
  },
  {
   "cell_type": "code",
   "execution_count": null,
   "metadata": {},
   "outputs": [],
   "source": [
    "np.argmax(logits_onnx)"
   ]
  },
  {
   "cell_type": "code",
   "execution_count": null,
   "metadata": {},
   "outputs": [],
   "source": [
    "clinc_enc[\"test\"][0][\"labels\"]"
   ]
  },
  {
   "cell_type": "code",
   "execution_count": null,
   "metadata": {},
   "outputs": [],
   "source": [
    "from scipy.special import softmax\n",
    "\n",
    "class OnnxPipeline:\n",
    "    def __init__(self, model, tokenizer):\n",
    "        self.model = model\n",
    "        self.tokenizer = tokenizer\n",
    "        \n",
    "    def __call__(self, query):\n",
    "        model_inputs = self.tokenizer(query, return_tensors=\"pt\")\n",
    "        inputs_onnx = {k: v.cpu().detach().numpy() \n",
    "                       for k, v in model_inputs.items()}\n",
    "        logits = self.model.run(None, inputs_onnx)[0][0, :]\n",
    "        probs = softmax(logits)\n",
    "        pred_idx = np.argmax(probs).item()\n",
    "        return [{\"label\": intents.int2str(pred_idx), \"score\": probs[pred_idx]}]"
   ]
  },
  {
   "cell_type": "code",
   "execution_count": null,
   "metadata": {},
   "outputs": [],
   "source": [
    "pipe = OnnxPipeline(onnx_model, tokenizer)\n",
    "pipe(query)"
   ]
  },
  {
   "cell_type": "code",
   "execution_count": null,
   "metadata": {},
   "outputs": [],
   "source": [
    "class OnnxPerformanceBenchmark(PerformanceBenchmark):\n",
    "    def __init__(self, *args, model_path, **kwargs):\n",
    "        super().__init__(*args, **kwargs)\n",
    "        self.model_path = model_path\n",
    "        \n",
    "    def compute_size(self):\n",
    "        size_mb = Path(self.model_path).stat().st_size / (1024 * 1024)\n",
    "        print(f\"Model size (MB) - {size_mb:.2f}\")\n",
    "        return {\"size_mb\": size_mb}"
   ]
  },
  {
   "cell_type": "code",
   "execution_count": null,
   "metadata": {},
   "outputs": [],
   "source": [
    "optim_type = \"Distillation + ORT\"\n",
    "pb = OnnxPerformanceBenchmark(pipe, clinc[\"test\"], optim_type,\n",
    "                              model_path=\"onnx/model.onnx\")\n",
    "perf_metrics.update(pb.run_benchmark())"
   ]
  },
  {
   "cell_type": "code",
   "execution_count": null,
   "metadata": {},
   "outputs": [],
   "source": [
    "plot_metrics(perf_metrics, optim_type)"
   ]
  },
  {
   "cell_type": "code",
   "execution_count": null,
   "metadata": {},
   "outputs": [],
   "source": [
    "from onnxruntime.quantization import quantize_dynamic, QuantType\n",
    "\n",
    "model_input = \"onnx/model.onnx\"\n",
    "model_output = \"onnx/model.quant.onnx\"\n",
    "quantize_dynamic(model_input, model_output, weight_type=QuantType.QInt8)"
   ]
  },
  {
   "cell_type": "code",
   "execution_count": null,
   "metadata": {},
   "outputs": [],
   "source": [
    "onnx_quantized_model = create_model_for_provider(model_output)\n",
    "pipe = OnnxPipeline(onnx_quantized_model, tokenizer)\n",
    "optim_type = \"Distillation + ORT (quantized)\"\n",
    "pb = OnnxPerformanceBenchmark(pipe, clinc[\"test\"], optim_type, \n",
    "                              model_path=model_output)\n",
    "perf_metrics.update(pb.run_benchmark())"
   ]
  },
  {
   "cell_type": "code",
   "execution_count": null,
   "metadata": {},
   "outputs": [],
   "source": [
    "plot_metrics(perf_metrics, optim_type)"
   ]
  },
  {
   "cell_type": "markdown",
   "metadata": {},
   "source": [
    "## Making Models Sparser with Weight Pruning"
   ]
  },
  {
   "cell_type": "markdown",
   "metadata": {},
   "source": [
    "### Sparsity in Deep Neural Networks"
   ]
  },
  {
   "cell_type": "markdown",
   "metadata": {},
   "source": [
    "<img alt=\"Network Pruning\" width=\"500\" caption=\"Weights and neurons before and after pruning (courtesy of Song Han)\" src=\"images/chapter08_network-pruning.png\" id=\"network-pruning\"/> "
   ]
  },
  {
   "cell_type": "markdown",
   "metadata": {},
   "source": [
    "### Weight Pruning Methods"
   ]
  },
  {
   "cell_type": "markdown",
   "metadata": {},
   "source": [
    "#### Magnitude pruning"
   ]
  },
  {
   "cell_type": "code",
   "execution_count": null,
   "metadata": {},
   "outputs": [],
   "source": [
    "#hide_input\n",
    "#id sparsity-scheduler\n",
    "#alt Sparsity scheduler\n",
    "#caption The cubic sparsity scheduler used for pruning\n",
    "import numpy as np\n",
    "import matplotlib.pyplot as plt\n",
    "\n",
    "def _sparsity(t, t_0=0, dt=1, s_i=0, s_f=0.9, N=100):\n",
    "    return s_f + (s_i - s_f) * (1 - (t - t_0) / (N * dt))**3\n",
    "\n",
    "steps = np.linspace(0,100,100)\n",
    "values = [_sparsity(t) for t in steps]\n",
    "\n",
    "fig, ax = plt.subplots()\n",
    "ax.plot(steps, values)\n",
    "ax.set_ylim(0,1)\n",
    "ax.set_xlim(0,100)\n",
    "ax.set_xlabel(\"Pruning step\")\n",
    "ax.set_ylabel(\"Sparsity\")\n",
    "plt.grid(linestyle=\"dashed\")\n",
    "plt.show()"
   ]
  },
  {
   "cell_type": "markdown",
   "metadata": {},
   "source": [
    "#### Movement pruning"
   ]
  },
  {
   "cell_type": "markdown",
   "metadata": {},
   "source": [
    "<img alt=\"Magnitude vs Movement Pruning\" width=\"700\" caption=\"Comparison of weights removed (in gray) during magnitude pruning (left) and movement pruning (right)\" src=\"images/chapter08_magnitude-vs-movement.png\" id=\"magnitude-vs-movement\"/> "
   ]
  },
  {
   "cell_type": "markdown",
   "metadata": {},
   "source": [
    "<img alt=\"Pruning Distributions\" width=\"500\" caption=\"Distribution of remaining weights for magnitude pruning (MaP) and movement pruning (MvP)\" src=\"images/chapter08_pruning-dists.png\" id=\"pruning-dists\"/>"
   ]
  },
  {
   "cell_type": "markdown",
   "metadata": {},
   "source": [
    "## Conclusion"
   ]
  }
 ],
 "metadata": {
  "kernelspec": {
   "display_name": "Python 3 (ipykernel)",
   "language": "python",
   "name": "python3"
  }
 },
 "nbformat": 4,
 "nbformat_minor": 4
}
