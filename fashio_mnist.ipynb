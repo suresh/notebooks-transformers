{
 "cells": [
  {
   "cell_type": "code",
   "execution_count": 30,
   "metadata": {},
   "outputs": [],
   "source": [
    "import torch\n",
    "from torch import nn\n",
    "\n",
    "from torch.utils.data import DataLoader\n",
    "from torchvision import datasets\n",
    "from torchvision.transforms import ToTensor"
   ]
  },
  {
   "cell_type": "code",
   "execution_count": 31,
   "metadata": {},
   "outputs": [],
   "source": [
    "training_data = datasets.FashionMNIST(root='data', train=True, download=True, transform=ToTensor())\n",
    "\n",
    "test_data = datasets.FashionMNIST(root='data', train=False, download=True, transform=ToTensor())"
   ]
  },
  {
   "cell_type": "code",
   "execution_count": 32,
   "metadata": {},
   "outputs": [
    {
     "name": "stdout",
     "output_type": "stream",
     "text": [
      "Using cuda device\n"
     ]
    }
   ],
   "source": [
    "batch_size = 64\n",
    "# Create data loaders.\n",
    "train_dataloader = DataLoader(training_data, batch_size=batch_size)\n",
    "test_dataloader = DataLoader(test_data, batch_size=batch_size)\n",
    "\n",
    "device = \"cuda\" if torch.cuda.is_available() else \"cpu\"\n",
    "print(f\"Using {device} device\")"
   ]
  },
  {
   "cell_type": "code",
   "execution_count": 39,
   "metadata": {},
   "outputs": [],
   "source": [
    "class FashionNet(nn.Module):\n",
    "    \n",
    "    def __init__(self,):\n",
    "        super(FashionNet, self).__init__()\n",
    "        self.flatten = nn.Flatten()\n",
    "        \n",
    "        self.linear_relu_stack = nn.Sequential(\n",
    "            nn.Linear(28*28, 512),\n",
    "            nn.ReLU(), \n",
    "            # nn.Linear(512, 512),\n",
    "            # nn.ReLU(),\n",
    "            # nn.Linear(512, 512),\n",
    "            # nn.ReLU(),\n",
    "            nn.Linear(512, 10)\n",
    "        )\n",
    "        \n",
    "    def forward(self, x):\n",
    "        x = self.flatten(x)\n",
    "        logits = self.linear_relu_stack(x)\n",
    "        return logits"
   ]
  },
  {
   "cell_type": "code",
   "execution_count": 40,
   "metadata": {},
   "outputs": [
    {
     "name": "stdout",
     "output_type": "stream",
     "text": [
      "FashionNet(\n",
      "  (flatten): Flatten(start_dim=1, end_dim=-1)\n",
      "  (linear_relu_stack): Sequential(\n",
      "    (0): Linear(in_features=784, out_features=512, bias=True)\n",
      "    (1): ReLU()\n",
      "    (2): Linear(in_features=512, out_features=10, bias=True)\n",
      "  )\n",
      ")\n"
     ]
    }
   ],
   "source": [
    "model = FashionNet().to(device)\n",
    "print(model)"
   ]
  },
  {
   "cell_type": "code",
   "execution_count": 41,
   "metadata": {},
   "outputs": [],
   "source": [
    "loss_function = nn.CrossEntropyLoss()\n",
    "optim = torch.optim.SGD(model.parameters(), lr=0.001, momentum=0)"
   ]
  },
  {
   "cell_type": "code",
   "execution_count": 42,
   "metadata": {},
   "outputs": [],
   "source": [
    "def train(dataloader, model, loss_fn, optimizer):\n",
    "    size = len(dataloader.dataset)\n",
    "    model.train()\n",
    "    \n",
    "    for batch, (X, y) in enumerate(dataloader):\n",
    "        X, y = X.to(device), y.to(device)\n",
    "        \n",
    "        pred = model(X)\n",
    "        loss = loss_fn(pred, y)\n",
    "        \n",
    "        # back-propagation\n",
    "        optimizer.zero_grad()\n",
    "        loss.backward()\n",
    "        optimizer.step()\n",
    "        \n",
    "        if batch % 100 == 0:\n",
    "            loss, current = loss.item(), batch * len(X)\n",
    "            print(f\"loss: {loss:>7f}  [{current:>5d}/{size:>5d}]\")"
   ]
  },
  {
   "cell_type": "code",
   "execution_count": 43,
   "metadata": {},
   "outputs": [],
   "source": [
    "def test(dataloader, model, loss_fn):\n",
    "    size = len(dataloader.dataset)\n",
    "    num_batches = len(dataloader)\n",
    "    model.eval()\n",
    "    test_loss, correct = 0, 0\n",
    "    with torch.no_grad():\n",
    "        for X, y in dataloader:\n",
    "            X, y = X.to(device), y.to(device)\n",
    "            pred = model(X)\n",
    "            test_loss += loss_fn(pred, y).item()\n",
    "            correct += (pred.argmax(1) == y).type(torch.float).sum().item()\n",
    "    test_loss /= num_batches\n",
    "    correct /= size\n",
    "    print(f\"Test Error: \\n Accuracy: {(100*correct):>0.1f}%, Avg loss: {test_loss:>8f} \\n\")"
   ]
  },
  {
   "cell_type": "code",
   "execution_count": 45,
   "metadata": {},
   "outputs": [
    {
     "name": "stderr",
     "output_type": "stream",
     "text": [
      "  0%|          | 0/50 [00:00<?, ?it/s]"
     ]
    },
    {
     "name": "stdout",
     "output_type": "stream",
     "text": [
      "Epoch 1 \n",
      "----------------------------------------\n",
      "loss: 1.183741  [    0/60000]\n",
      "loss: 1.128579  [12800/60000]\n",
      "loss: 1.128815  [25600/60000]\n",
      "loss: 1.124442  [38400/60000]\n",
      "loss: 1.148059  [51200/60000]\n"
     ]
    },
    {
     "name": "stderr",
     "output_type": "stream",
     "text": [
      "  2%|▏         | 1/50 [00:05<04:29,  5.50s/it]"
     ]
    },
    {
     "name": "stdout",
     "output_type": "stream",
     "text": [
      "Test Error: \n",
      " Accuracy: 66.4%, Avg loss: 1.120983 \n",
      "\n",
      "Epoch 2 \n",
      "----------------------------------------\n",
      "loss: 1.082904  [    0/60000]\n",
      "loss: 1.031069  [12800/60000]\n",
      "loss: 1.039182  [25600/60000]\n",
      "loss: 1.043858  [38400/60000]\n",
      "loss: 1.071384  [51200/60000]\n"
     ]
    },
    {
     "name": "stderr",
     "output_type": "stream",
     "text": [
      "  4%|▍         | 2/50 [00:11<04:27,  5.57s/it]"
     ]
    },
    {
     "name": "stdout",
     "output_type": "stream",
     "text": [
      "Test Error: \n",
      " Accuracy: 66.9%, Avg loss: 1.049277 \n",
      "\n",
      "Epoch 3 \n",
      "----------------------------------------\n",
      "loss: 1.005514  [    0/60000]\n",
      "loss: 0.955862  [12800/60000]\n",
      "loss: 0.971036  [25600/60000]\n",
      "loss: 0.982234  [38400/60000]\n",
      "loss: 1.011732  [51200/60000]\n"
     ]
    },
    {
     "name": "stderr",
     "output_type": "stream",
     "text": [
      "  6%|▌         | 3/50 [00:16<04:24,  5.63s/it]"
     ]
    },
    {
     "name": "stdout",
     "output_type": "stream",
     "text": [
      "Test Error: \n",
      " Accuracy: 67.6%, Avg loss: 0.993711 \n",
      "\n",
      "Epoch 4 \n",
      "----------------------------------------\n",
      "loss: 0.944298  [    0/60000]\n",
      "loss: 0.896305  [12800/60000]\n",
      "loss: 0.917664  [25600/60000]\n",
      "loss: 0.933834  [38400/60000]\n",
      "loss: 0.964290  [51200/60000]\n"
     ]
    },
    {
     "name": "stderr",
     "output_type": "stream",
     "text": [
      "  8%|▊         | 4/50 [00:22<04:18,  5.63s/it]"
     ]
    },
    {
     "name": "stdout",
     "output_type": "stream",
     "text": [
      "Test Error: \n",
      " Accuracy: 68.1%, Avg loss: 0.949466 \n",
      "\n",
      "Epoch 5 \n",
      "----------------------------------------\n",
      "loss: 0.894641  [    0/60000]\n",
      "loss: 0.847925  [12800/60000]\n",
      "loss: 0.874737  [25600/60000]\n",
      "loss: 0.894911  [38400/60000]\n",
      "loss: 0.925666  [51200/60000]\n"
     ]
    },
    {
     "name": "stderr",
     "output_type": "stream",
     "text": [
      " 10%|█         | 5/50 [00:28<04:14,  5.65s/it]"
     ]
    },
    {
     "name": "stdout",
     "output_type": "stream",
     "text": [
      "Test Error: \n",
      " Accuracy: 68.8%, Avg loss: 0.913336 \n",
      "\n",
      "Epoch 6 \n",
      "----------------------------------------\n",
      "loss: 0.853299  [    0/60000]\n",
      "loss: 0.807723  [12800/60000]\n",
      "loss: 0.839261  [25600/60000]\n",
      "loss: 0.862766  [38400/60000]\n",
      "loss: 0.893596  [51200/60000]\n"
     ]
    },
    {
     "name": "stderr",
     "output_type": "stream",
     "text": [
      " 12%|█▏        | 6/50 [00:33<04:08,  5.64s/it]"
     ]
    },
    {
     "name": "stdout",
     "output_type": "stream",
     "text": [
      "Test Error: \n",
      " Accuracy: 69.4%, Avg loss: 0.883148 \n",
      "\n",
      "Epoch 7 \n",
      "----------------------------------------\n",
      "loss: 0.818138  [    0/60000]\n",
      "loss: 0.773692  [12800/60000]\n",
      "loss: 0.809151  [25600/60000]\n",
      "loss: 0.835665  [38400/60000]\n",
      "loss: 0.866394  [51200/60000]\n"
     ]
    },
    {
     "name": "stderr",
     "output_type": "stream",
     "text": [
      " 14%|█▍        | 7/50 [00:39<04:03,  5.65s/it]"
     ]
    },
    {
     "name": "stdout",
     "output_type": "stream",
     "text": [
      "Test Error: \n",
      " Accuracy: 70.2%, Avg loss: 0.857447 \n",
      "\n",
      "Epoch 8 \n",
      "----------------------------------------\n",
      "loss: 0.787772  [    0/60000]\n",
      "loss: 0.744402  [12800/60000]\n",
      "loss: 0.783132  [25600/60000]\n",
      "loss: 0.812409  [38400/60000]\n",
      "loss: 0.843048  [51200/60000]\n"
     ]
    },
    {
     "name": "stderr",
     "output_type": "stream",
     "text": [
      " 16%|█▌        | 8/50 [00:45<03:58,  5.68s/it]"
     ]
    },
    {
     "name": "stdout",
     "output_type": "stream",
     "text": [
      "Test Error: \n",
      " Accuracy: 70.9%, Avg loss: 0.835181 \n",
      "\n",
      "Epoch 9 \n",
      "----------------------------------------\n",
      "loss: 0.761172  [    0/60000]\n",
      "loss: 0.718858  [12800/60000]\n",
      "loss: 0.760294  [25600/60000]\n",
      "loss: 0.792115  [38400/60000]\n",
      "loss: 0.822740  [51200/60000]\n"
     ]
    },
    {
     "name": "stderr",
     "output_type": "stream",
     "text": [
      " 18%|█▊        | 9/50 [00:50<03:51,  5.66s/it]"
     ]
    },
    {
     "name": "stdout",
     "output_type": "stream",
     "text": [
      "Test Error: \n",
      " Accuracy: 71.7%, Avg loss: 0.815622 \n",
      "\n",
      "Epoch 10 \n",
      "----------------------------------------\n",
      "loss: 0.737568  [    0/60000]\n",
      "loss: 0.696300  [12800/60000]\n",
      "loss: 0.740028  [25600/60000]\n",
      "loss: 0.774147  [38400/60000]\n",
      "loss: 0.804842  [51200/60000]\n"
     ]
    },
    {
     "name": "stderr",
     "output_type": "stream",
     "text": [
      " 20%|██        | 10/50 [00:56<03:46,  5.67s/it]"
     ]
    },
    {
     "name": "stdout",
     "output_type": "stream",
     "text": [
      "Test Error: \n",
      " Accuracy: 72.2%, Avg loss: 0.798209 \n",
      "\n",
      "Epoch 11 \n",
      "----------------------------------------\n",
      "loss: 0.716447  [    0/60000]\n",
      "loss: 0.676226  [12800/60000]\n",
      "loss: 0.721771  [25600/60000]\n",
      "loss: 0.758073  [38400/60000]\n",
      "loss: 0.788915  [51200/60000]\n"
     ]
    },
    {
     "name": "stderr",
     "output_type": "stream",
     "text": [
      " 22%|██▏       | 11/50 [01:02<03:41,  5.69s/it]"
     ]
    },
    {
     "name": "stdout",
     "output_type": "stream",
     "text": [
      "Test Error: \n",
      " Accuracy: 72.8%, Avg loss: 0.782536 \n",
      "\n",
      "Epoch 12 \n",
      "----------------------------------------\n",
      "loss: 0.697349  [    0/60000]\n",
      "loss: 0.658190  [12800/60000]\n",
      "loss: 0.705241  [25600/60000]\n",
      "loss: 0.743488  [38400/60000]\n",
      "loss: 0.774619  [51200/60000]\n"
     ]
    },
    {
     "name": "stderr",
     "output_type": "stream",
     "text": [
      " 24%|██▍       | 12/50 [01:07<03:36,  5.69s/it]"
     ]
    },
    {
     "name": "stdout",
     "output_type": "stream",
     "text": [
      "Test Error: \n",
      " Accuracy: 73.3%, Avg loss: 0.768308 \n",
      "\n",
      "Epoch 13 \n",
      "----------------------------------------\n",
      "loss: 0.679928  [    0/60000]\n",
      "loss: 0.641863  [12800/60000]\n",
      "loss: 0.690167  [25600/60000]\n",
      "loss: 0.730231  [38400/60000]\n",
      "loss: 0.761706  [51200/60000]\n"
     ]
    },
    {
     "name": "stderr",
     "output_type": "stream",
     "text": [
      " 26%|██▌       | 13/50 [01:13<03:29,  5.67s/it]"
     ]
    },
    {
     "name": "stdout",
     "output_type": "stream",
     "text": [
      "Test Error: \n",
      " Accuracy: 73.8%, Avg loss: 0.755282 \n",
      "\n",
      "Epoch 14 \n",
      "----------------------------------------\n",
      "loss: 0.663983  [    0/60000]\n",
      "loss: 0.626984  [12800/60000]\n",
      "loss: 0.676314  [25600/60000]\n",
      "loss: 0.718077  [38400/60000]\n",
      "loss: 0.749913  [51200/60000]\n"
     ]
    },
    {
     "name": "stderr",
     "output_type": "stream",
     "text": [
      " 28%|██▊       | 14/50 [01:19<03:23,  5.65s/it]"
     ]
    },
    {
     "name": "stdout",
     "output_type": "stream",
     "text": [
      "Test Error: \n",
      " Accuracy: 74.2%, Avg loss: 0.743289 \n",
      "\n",
      "Epoch 15 \n",
      "----------------------------------------\n",
      "loss: 0.649255  [    0/60000]\n",
      "loss: 0.613395  [12800/60000]\n",
      "loss: 0.663519  [25600/60000]\n",
      "loss: 0.706847  [38400/60000]\n",
      "loss: 0.739072  [51200/60000]\n"
     ]
    },
    {
     "name": "stderr",
     "output_type": "stream",
     "text": [
      " 30%|███       | 15/50 [01:24<03:18,  5.67s/it]"
     ]
    },
    {
     "name": "stdout",
     "output_type": "stream",
     "text": [
      "Test Error: \n",
      " Accuracy: 74.6%, Avg loss: 0.732177 \n",
      "\n",
      "Epoch 16 \n",
      "----------------------------------------\n",
      "loss: 0.635635  [    0/60000]\n",
      "loss: 0.600890  [12800/60000]\n",
      "loss: 0.651660  [25600/60000]\n",
      "loss: 0.696406  [38400/60000]\n",
      "loss: 0.729168  [51200/60000]\n"
     ]
    },
    {
     "name": "stderr",
     "output_type": "stream",
     "text": [
      " 32%|███▏      | 16/50 [01:30<03:13,  5.68s/it]"
     ]
    },
    {
     "name": "stdout",
     "output_type": "stream",
     "text": [
      "Test Error: \n",
      " Accuracy: 74.8%, Avg loss: 0.721840 \n",
      "\n",
      "Epoch 17 \n",
      "----------------------------------------\n",
      "loss: 0.622919  [    0/60000]\n",
      "loss: 0.589410  [12800/60000]\n",
      "loss: 0.640616  [25600/60000]\n",
      "loss: 0.686674  [38400/60000]\n",
      "loss: 0.720017  [51200/60000]\n"
     ]
    },
    {
     "name": "stderr",
     "output_type": "stream",
     "text": [
      " 34%|███▍      | 17/50 [01:36<03:07,  5.69s/it]"
     ]
    },
    {
     "name": "stdout",
     "output_type": "stream",
     "text": [
      "Test Error: \n",
      " Accuracy: 75.2%, Avg loss: 0.712177 \n",
      "\n",
      "Epoch 18 \n",
      "----------------------------------------\n",
      "loss: 0.611100  [    0/60000]\n",
      "loss: 0.578784  [12800/60000]\n",
      "loss: 0.630308  [25600/60000]\n",
      "loss: 0.677582  [38400/60000]\n",
      "loss: 0.711479  [51200/60000]\n"
     ]
    },
    {
     "name": "stderr",
     "output_type": "stream",
     "text": [
      " 36%|███▌      | 18/50 [01:41<03:01,  5.68s/it]"
     ]
    },
    {
     "name": "stdout",
     "output_type": "stream",
     "text": [
      "Test Error: \n",
      " Accuracy: 75.6%, Avg loss: 0.703130 \n",
      "\n",
      "Epoch 19 \n",
      "----------------------------------------\n",
      "loss: 0.600069  [    0/60000]\n",
      "loss: 0.568924  [12800/60000]\n",
      "loss: 0.620718  [25600/60000]\n",
      "loss: 0.669046  [38400/60000]\n",
      "loss: 0.703580  [51200/60000]\n"
     ]
    },
    {
     "name": "stderr",
     "output_type": "stream",
     "text": [
      " 38%|███▊      | 19/50 [01:47<02:57,  5.71s/it]"
     ]
    },
    {
     "name": "stdout",
     "output_type": "stream",
     "text": [
      "Test Error: \n",
      " Accuracy: 75.9%, Avg loss: 0.694627 \n",
      "\n",
      "Epoch 20 \n",
      "----------------------------------------\n",
      "loss: 0.589698  [    0/60000]\n",
      "loss: 0.559772  [12800/60000]\n",
      "loss: 0.611688  [25600/60000]\n",
      "loss: 0.661002  [38400/60000]\n",
      "loss: 0.696264  [51200/60000]\n"
     ]
    },
    {
     "name": "stderr",
     "output_type": "stream",
     "text": [
      " 40%|████      | 20/50 [01:53<02:50,  5.69s/it]"
     ]
    },
    {
     "name": "stdout",
     "output_type": "stream",
     "text": [
      "Test Error: \n",
      " Accuracy: 76.1%, Avg loss: 0.686618 \n",
      "\n",
      "Epoch 21 \n",
      "----------------------------------------\n",
      "loss: 0.579993  [    0/60000]\n",
      "loss: 0.551267  [12800/60000]\n",
      "loss: 0.603212  [25600/60000]\n",
      "loss: 0.653450  [38400/60000]\n",
      "loss: 0.689453  [51200/60000]\n"
     ]
    },
    {
     "name": "stderr",
     "output_type": "stream",
     "text": [
      " 42%|████▏     | 21/50 [01:59<02:45,  5.71s/it]"
     ]
    },
    {
     "name": "stdout",
     "output_type": "stream",
     "text": [
      "Test Error: \n",
      " Accuracy: 76.4%, Avg loss: 0.679056 \n",
      "\n",
      "Epoch 22 \n",
      "----------------------------------------\n",
      "loss: 0.570802  [    0/60000]\n",
      "loss: 0.543300  [12800/60000]\n",
      "loss: 0.595279  [25600/60000]\n",
      "loss: 0.646323  [38400/60000]\n",
      "loss: 0.683043  [51200/60000]\n"
     ]
    },
    {
     "name": "stderr",
     "output_type": "stream",
     "text": [
      " 44%|████▍     | 22/50 [02:04<02:39,  5.71s/it]"
     ]
    },
    {
     "name": "stdout",
     "output_type": "stream",
     "text": [
      "Test Error: \n",
      " Accuracy: 76.7%, Avg loss: 0.671905 \n",
      "\n",
      "Epoch 23 \n",
      "----------------------------------------\n",
      "loss: 0.562182  [    0/60000]\n",
      "loss: 0.535847  [12800/60000]\n",
      "loss: 0.587701  [25600/60000]\n",
      "loss: 0.639607  [38400/60000]\n",
      "loss: 0.677092  [51200/60000]\n"
     ]
    },
    {
     "name": "stderr",
     "output_type": "stream",
     "text": [
      " 46%|████▌     | 23/50 [02:10<02:33,  5.69s/it]"
     ]
    },
    {
     "name": "stdout",
     "output_type": "stream",
     "text": [
      "Test Error: \n",
      " Accuracy: 76.8%, Avg loss: 0.665135 \n",
      "\n",
      "Epoch 24 \n",
      "----------------------------------------\n",
      "loss: 0.554029  [    0/60000]\n",
      "loss: 0.528898  [12800/60000]\n",
      "loss: 0.580640  [25600/60000]\n",
      "loss: 0.633268  [38400/60000]\n",
      "loss: 0.671518  [51200/60000]\n"
     ]
    },
    {
     "name": "stderr",
     "output_type": "stream",
     "text": [
      " 48%|████▊     | 24/50 [02:16<02:28,  5.72s/it]"
     ]
    },
    {
     "name": "stdout",
     "output_type": "stream",
     "text": [
      "Test Error: \n",
      " Accuracy: 77.1%, Avg loss: 0.658717 \n",
      "\n",
      "Epoch 25 \n",
      "----------------------------------------\n",
      "loss: 0.546314  [    0/60000]\n",
      "loss: 0.522359  [12800/60000]\n",
      "loss: 0.573910  [25600/60000]\n",
      "loss: 0.627254  [38400/60000]\n",
      "loss: 0.666267  [51200/60000]\n"
     ]
    },
    {
     "name": "stderr",
     "output_type": "stream",
     "text": [
      " 50%|█████     | 25/50 [02:22<02:23,  5.73s/it]"
     ]
    },
    {
     "name": "stdout",
     "output_type": "stream",
     "text": [
      "Test Error: \n",
      " Accuracy: 77.3%, Avg loss: 0.652620 \n",
      "\n",
      "Epoch 26 \n",
      "----------------------------------------\n",
      "loss: 0.539024  [    0/60000]\n",
      "loss: 0.516205  [12800/60000]\n",
      "loss: 0.567556  [25600/60000]\n",
      "loss: 0.621489  [38400/60000]\n",
      "loss: 0.661412  [51200/60000]\n"
     ]
    },
    {
     "name": "stderr",
     "output_type": "stream",
     "text": [
      " 52%|█████▏    | 26/50 [02:28<02:22,  5.93s/it]"
     ]
    },
    {
     "name": "stdout",
     "output_type": "stream",
     "text": [
      "Test Error: \n",
      " Accuracy: 77.6%, Avg loss: 0.646817 \n",
      "\n",
      "Epoch 27 \n",
      "----------------------------------------\n",
      "loss: 0.532057  [    0/60000]\n",
      "loss: 0.510402  [12800/60000]\n",
      "loss: 0.561530  [25600/60000]\n",
      "loss: 0.616086  [38400/60000]\n",
      "loss: 0.656795  [51200/60000]\n"
     ]
    },
    {
     "name": "stderr",
     "output_type": "stream",
     "text": [
      " 54%|█████▍    | 27/50 [02:34<02:18,  6.01s/it]"
     ]
    },
    {
     "name": "stdout",
     "output_type": "stream",
     "text": [
      "Test Error: \n",
      " Accuracy: 77.8%, Avg loss: 0.641298 \n",
      "\n",
      "Epoch 28 \n",
      "----------------------------------------\n",
      "loss: 0.525452  [    0/60000]\n",
      "loss: 0.504925  [12800/60000]\n",
      "loss: 0.555814  [25600/60000]\n",
      "loss: 0.610937  [38400/60000]\n",
      "loss: 0.652457  [51200/60000]\n"
     ]
    },
    {
     "name": "stderr",
     "output_type": "stream",
     "text": [
      " 56%|█████▌    | 28/50 [02:40<02:12,  6.03s/it]"
     ]
    },
    {
     "name": "stdout",
     "output_type": "stream",
     "text": [
      "Test Error: \n",
      " Accuracy: 78.0%, Avg loss: 0.636039 \n",
      "\n",
      "Epoch 29 \n",
      "----------------------------------------\n",
      "loss: 0.519121  [    0/60000]\n",
      "loss: 0.499751  [12800/60000]\n",
      "loss: 0.550360  [25600/60000]\n",
      "loss: 0.606018  [38400/60000]\n",
      "loss: 0.648390  [51200/60000]\n"
     ]
    },
    {
     "name": "stderr",
     "output_type": "stream",
     "text": [
      " 58%|█████▊    | 29/50 [02:46<02:06,  6.03s/it]"
     ]
    },
    {
     "name": "stdout",
     "output_type": "stream",
     "text": [
      "Test Error: \n",
      " Accuracy: 78.2%, Avg loss: 0.631024 \n",
      "\n",
      "Epoch 30 \n",
      "----------------------------------------\n",
      "loss: 0.513107  [    0/60000]\n",
      "loss: 0.494838  [12800/60000]\n",
      "loss: 0.545163  [25600/60000]\n",
      "loss: 0.601389  [38400/60000]\n",
      "loss: 0.644576  [51200/60000]\n"
     ]
    },
    {
     "name": "stderr",
     "output_type": "stream",
     "text": [
      " 60%|██████    | 30/50 [02:52<02:00,  6.04s/it]"
     ]
    },
    {
     "name": "stdout",
     "output_type": "stream",
     "text": [
      "Test Error: \n",
      " Accuracy: 78.4%, Avg loss: 0.626232 \n",
      "\n",
      "Epoch 31 \n",
      "----------------------------------------\n",
      "loss: 0.507317  [    0/60000]\n",
      "loss: 0.490173  [12800/60000]\n",
      "loss: 0.540207  [25600/60000]\n",
      "loss: 0.596934  [38400/60000]\n",
      "loss: 0.640963  [51200/60000]\n"
     ]
    },
    {
     "name": "stderr",
     "output_type": "stream",
     "text": [
      " 62%|██████▏   | 31/50 [02:58<01:54,  6.04s/it]"
     ]
    },
    {
     "name": "stdout",
     "output_type": "stream",
     "text": [
      "Test Error: \n",
      " Accuracy: 78.6%, Avg loss: 0.621661 \n",
      "\n",
      "Epoch 32 \n",
      "----------------------------------------\n",
      "loss: 0.501824  [    0/60000]\n",
      "loss: 0.485737  [12800/60000]\n",
      "loss: 0.535462  [25600/60000]\n",
      "loss: 0.592678  [38400/60000]\n",
      "loss: 0.637545  [51200/60000]\n"
     ]
    },
    {
     "name": "stderr",
     "output_type": "stream",
     "text": [
      " 64%|██████▍   | 32/50 [03:04<01:46,  5.91s/it]"
     ]
    },
    {
     "name": "stdout",
     "output_type": "stream",
     "text": [
      "Test Error: \n",
      " Accuracy: 78.6%, Avg loss: 0.617282 \n",
      "\n",
      "Epoch 33 \n",
      "----------------------------------------\n",
      "loss: 0.496500  [    0/60000]\n",
      "loss: 0.481538  [12800/60000]\n",
      "loss: 0.530895  [25600/60000]\n",
      "loss: 0.588574  [38400/60000]\n",
      "loss: 0.634326  [51200/60000]\n"
     ]
    },
    {
     "name": "stderr",
     "output_type": "stream",
     "text": [
      " 66%|██████▌   | 33/50 [03:10<01:40,  5.94s/it]"
     ]
    },
    {
     "name": "stdout",
     "output_type": "stream",
     "text": [
      "Test Error: \n",
      " Accuracy: 78.8%, Avg loss: 0.613092 \n",
      "\n",
      "Epoch 34 \n",
      "----------------------------------------\n",
      "loss: 0.491438  [    0/60000]\n",
      "loss: 0.477537  [12800/60000]\n",
      "loss: 0.526575  [25600/60000]\n",
      "loss: 0.584738  [38400/60000]\n",
      "loss: 0.631276  [51200/60000]\n"
     ]
    },
    {
     "name": "stderr",
     "output_type": "stream",
     "text": [
      " 68%|██████▊   | 34/50 [03:16<01:33,  5.86s/it]"
     ]
    },
    {
     "name": "stdout",
     "output_type": "stream",
     "text": [
      "Test Error: \n",
      " Accuracy: 79.0%, Avg loss: 0.609074 \n",
      "\n",
      "Epoch 35 \n",
      "----------------------------------------\n",
      "loss: 0.486567  [    0/60000]\n",
      "loss: 0.473718  [12800/60000]\n",
      "loss: 0.522362  [25600/60000]\n",
      "loss: 0.580999  [38400/60000]\n",
      "loss: 0.628386  [51200/60000]\n"
     ]
    },
    {
     "name": "stderr",
     "output_type": "stream",
     "text": [
      " 70%|███████   | 35/50 [03:22<01:28,  5.93s/it]"
     ]
    },
    {
     "name": "stdout",
     "output_type": "stream",
     "text": [
      "Test Error: \n",
      " Accuracy: 79.1%, Avg loss: 0.605219 \n",
      "\n",
      "Epoch 36 \n",
      "----------------------------------------\n",
      "loss: 0.481842  [    0/60000]\n",
      "loss: 0.470079  [12800/60000]\n",
      "loss: 0.518361  [25600/60000]\n",
      "loss: 0.577449  [38400/60000]\n",
      "loss: 0.625600  [51200/60000]\n"
     ]
    },
    {
     "name": "stderr",
     "output_type": "stream",
     "text": [
      " 72%|███████▏  | 36/50 [03:28<01:23,  5.98s/it]"
     ]
    },
    {
     "name": "stdout",
     "output_type": "stream",
     "text": [
      "Test Error: \n",
      " Accuracy: 79.1%, Avg loss: 0.601521 \n",
      "\n",
      "Epoch 37 \n",
      "----------------------------------------\n",
      "loss: 0.477341  [    0/60000]\n",
      "loss: 0.466558  [12800/60000]\n",
      "loss: 0.514487  [25600/60000]\n",
      "loss: 0.574008  [38400/60000]\n",
      "loss: 0.622958  [51200/60000]\n"
     ]
    },
    {
     "name": "stderr",
     "output_type": "stream",
     "text": [
      " 74%|███████▍  | 37/50 [03:34<01:19,  6.10s/it]"
     ]
    },
    {
     "name": "stdout",
     "output_type": "stream",
     "text": [
      "Test Error: \n",
      " Accuracy: 79.3%, Avg loss: 0.597971 \n",
      "\n",
      "Epoch 38 \n",
      "----------------------------------------\n",
      "loss: 0.472958  [    0/60000]\n",
      "loss: 0.463225  [12800/60000]\n",
      "loss: 0.510799  [25600/60000]\n",
      "loss: 0.570748  [38400/60000]\n",
      "loss: 0.620463  [51200/60000]\n"
     ]
    },
    {
     "name": "stderr",
     "output_type": "stream",
     "text": [
      " 76%|███████▌  | 38/50 [03:40<01:12,  6.07s/it]"
     ]
    },
    {
     "name": "stdout",
     "output_type": "stream",
     "text": [
      "Test Error: \n",
      " Accuracy: 79.4%, Avg loss: 0.594555 \n",
      "\n",
      "Epoch 39 \n",
      "----------------------------------------\n",
      "loss: 0.468733  [    0/60000]\n",
      "loss: 0.460023  [12800/60000]\n",
      "loss: 0.507178  [25600/60000]\n",
      "loss: 0.567614  [38400/60000]\n",
      "loss: 0.618070  [51200/60000]\n"
     ]
    },
    {
     "name": "stderr",
     "output_type": "stream",
     "text": [
      " 78%|███████▊  | 39/50 [03:46<01:06,  6.08s/it]"
     ]
    },
    {
     "name": "stdout",
     "output_type": "stream",
     "text": [
      "Test Error: \n",
      " Accuracy: 79.6%, Avg loss: 0.591265 \n",
      "\n",
      "Epoch 40 \n",
      "----------------------------------------\n",
      "loss: 0.464691  [    0/60000]\n",
      "loss: 0.456931  [12800/60000]\n",
      "loss: 0.503670  [25600/60000]\n",
      "loss: 0.564625  [38400/60000]\n",
      "loss: 0.615690  [51200/60000]\n"
     ]
    },
    {
     "name": "stderr",
     "output_type": "stream",
     "text": [
      " 80%|████████  | 40/50 [03:52<01:00,  6.10s/it]"
     ]
    },
    {
     "name": "stdout",
     "output_type": "stream",
     "text": [
      "Test Error: \n",
      " Accuracy: 79.8%, Avg loss: 0.588104 \n",
      "\n",
      "Epoch 41 \n",
      "----------------------------------------\n",
      "loss: 0.460751  [    0/60000]\n",
      "loss: 0.453982  [12800/60000]\n",
      "loss: 0.500319  [25600/60000]\n",
      "loss: 0.561700  [38400/60000]\n",
      "loss: 0.613521  [51200/60000]\n"
     ]
    },
    {
     "name": "stderr",
     "output_type": "stream",
     "text": [
      " 82%|████████▏ | 41/50 [03:59<00:55,  6.12s/it]"
     ]
    },
    {
     "name": "stdout",
     "output_type": "stream",
     "text": [
      "Test Error: \n",
      " Accuracy: 79.9%, Avg loss: 0.585054 \n",
      "\n",
      "Epoch 42 \n",
      "----------------------------------------\n",
      "loss: 0.456958  [    0/60000]\n",
      "loss: 0.451126  [12800/60000]\n",
      "loss: 0.497053  [25600/60000]\n",
      "loss: 0.558915  [38400/60000]\n",
      "loss: 0.611409  [51200/60000]\n"
     ]
    },
    {
     "name": "stderr",
     "output_type": "stream",
     "text": [
      " 84%|████████▍ | 42/50 [04:05<00:48,  6.11s/it]"
     ]
    },
    {
     "name": "stdout",
     "output_type": "stream",
     "text": [
      "Test Error: \n",
      " Accuracy: 79.9%, Avg loss: 0.582116 \n",
      "\n",
      "Epoch 43 \n",
      "----------------------------------------\n",
      "loss: 0.453265  [    0/60000]\n",
      "loss: 0.448393  [12800/60000]\n",
      "loss: 0.493936  [25600/60000]\n",
      "loss: 0.556257  [38400/60000]\n",
      "loss: 0.609321  [51200/60000]\n"
     ]
    },
    {
     "name": "stderr",
     "output_type": "stream",
     "text": [
      " 86%|████████▌ | 43/50 [04:11<00:42,  6.05s/it]"
     ]
    },
    {
     "name": "stdout",
     "output_type": "stream",
     "text": [
      "Test Error: \n",
      " Accuracy: 80.0%, Avg loss: 0.579273 \n",
      "\n",
      "Epoch 44 \n",
      "----------------------------------------\n",
      "loss: 0.449711  [    0/60000]\n",
      "loss: 0.445751  [12800/60000]\n",
      "loss: 0.490850  [25600/60000]\n",
      "loss: 0.553628  [38400/60000]\n",
      "loss: 0.607338  [51200/60000]\n"
     ]
    },
    {
     "name": "stderr",
     "output_type": "stream",
     "text": [
      " 88%|████████▊ | 44/50 [04:16<00:35,  5.94s/it]"
     ]
    },
    {
     "name": "stdout",
     "output_type": "stream",
     "text": [
      "Test Error: \n",
      " Accuracy: 80.1%, Avg loss: 0.576538 \n",
      "\n",
      "Epoch 45 \n",
      "----------------------------------------\n",
      "loss: 0.446259  [    0/60000]\n",
      "loss: 0.443219  [12800/60000]\n",
      "loss: 0.487910  [25600/60000]\n",
      "loss: 0.551146  [38400/60000]\n",
      "loss: 0.605399  [51200/60000]\n"
     ]
    },
    {
     "name": "stderr",
     "output_type": "stream",
     "text": [
      " 90%|█████████ | 45/50 [04:22<00:29,  5.81s/it]"
     ]
    },
    {
     "name": "stdout",
     "output_type": "stream",
     "text": [
      "Test Error: \n",
      " Accuracy: 80.2%, Avg loss: 0.573892 \n",
      "\n",
      "Epoch 46 \n",
      "----------------------------------------\n",
      "loss: 0.442895  [    0/60000]\n",
      "loss: 0.440761  [12800/60000]\n",
      "loss: 0.485076  [25600/60000]\n",
      "loss: 0.548724  [38400/60000]\n",
      "loss: 0.603525  [51200/60000]\n"
     ]
    },
    {
     "name": "stderr",
     "output_type": "stream",
     "text": [
      " 92%|█████████▏| 46/50 [04:27<00:23,  5.77s/it]"
     ]
    },
    {
     "name": "stdout",
     "output_type": "stream",
     "text": [
      "Test Error: \n",
      " Accuracy: 80.3%, Avg loss: 0.571332 \n",
      "\n",
      "Epoch 47 \n",
      "----------------------------------------\n",
      "loss: 0.439651  [    0/60000]\n",
      "loss: 0.438403  [12800/60000]\n",
      "loss: 0.482283  [25600/60000]\n",
      "loss: 0.546348  [38400/60000]\n",
      "loss: 0.601686  [51200/60000]\n"
     ]
    },
    {
     "name": "stderr",
     "output_type": "stream",
     "text": [
      " 94%|█████████▍| 47/50 [04:33<00:17,  5.77s/it]"
     ]
    },
    {
     "name": "stdout",
     "output_type": "stream",
     "text": [
      "Test Error: \n",
      " Accuracy: 80.4%, Avg loss: 0.568856 \n",
      "\n",
      "Epoch 48 \n",
      "----------------------------------------\n",
      "loss: 0.436491  [    0/60000]\n",
      "loss: 0.436122  [12800/60000]\n",
      "loss: 0.479581  [25600/60000]\n",
      "loss: 0.544110  [38400/60000]\n",
      "loss: 0.600008  [51200/60000]\n"
     ]
    },
    {
     "name": "stderr",
     "output_type": "stream",
     "text": [
      " 96%|█████████▌| 48/50 [04:39<00:11,  5.75s/it]"
     ]
    },
    {
     "name": "stdout",
     "output_type": "stream",
     "text": [
      "Test Error: \n",
      " Accuracy: 80.5%, Avg loss: 0.566456 \n",
      "\n",
      "Epoch 49 \n",
      "----------------------------------------\n",
      "loss: 0.433421  [    0/60000]\n",
      "loss: 0.433886  [12800/60000]\n",
      "loss: 0.477018  [25600/60000]\n",
      "loss: 0.541974  [38400/60000]\n",
      "loss: 0.598304  [51200/60000]\n"
     ]
    },
    {
     "name": "stderr",
     "output_type": "stream",
     "text": [
      " 98%|█████████▊| 49/50 [04:45<00:05,  5.70s/it]"
     ]
    },
    {
     "name": "stdout",
     "output_type": "stream",
     "text": [
      "Test Error: \n",
      " Accuracy: 80.6%, Avg loss: 0.564135 \n",
      "\n",
      "Epoch 50 \n",
      "----------------------------------------\n",
      "loss: 0.430422  [    0/60000]\n",
      "loss: 0.431723  [12800/60000]\n",
      "loss: 0.474453  [25600/60000]\n",
      "loss: 0.539845  [38400/60000]\n",
      "loss: 0.596634  [51200/60000]\n"
     ]
    },
    {
     "name": "stderr",
     "output_type": "stream",
     "text": [
      "100%|██████████| 50/50 [04:50<00:00,  5.81s/it]"
     ]
    },
    {
     "name": "stdout",
     "output_type": "stream",
     "text": [
      "Test Error: \n",
      " Accuracy: 80.6%, Avg loss: 0.561885 \n",
      "\n",
      "Done \n",
      "\n"
     ]
    },
    {
     "name": "stderr",
     "output_type": "stream",
     "text": [
      "\n"
     ]
    }
   ],
   "source": [
    "epochs = 50\n",
    "from tqdm import trange\n",
    "\n",
    "for t in trange(epochs):\n",
    "    print(f'Epoch {t+1} \\n----------------------------------------')\n",
    "    train(train_dataloader, model, loss_function, optim)\n",
    "    test(test_dataloader, model, loss_function)\n",
    "    \n",
    "print('Done \\n')"
   ]
  },
  {
   "cell_type": "code",
   "execution_count": null,
   "metadata": {},
   "outputs": [],
   "source": []
  },
  {
   "cell_type": "code",
   "execution_count": null,
   "metadata": {},
   "outputs": [],
   "source": []
  }
 ],
 "metadata": {
  "kernelspec": {
   "display_name": "Python 3.8.8 ('base')",
   "language": "python",
   "name": "python3"
  },
  "language_info": {
   "codemirror_mode": {
    "name": "ipython",
    "version": 3
   },
   "file_extension": ".py",
   "mimetype": "text/x-python",
   "name": "python",
   "nbconvert_exporter": "python",
   "pygments_lexer": "ipython3",
   "version": "3.8.8"
  },
  "orig_nbformat": 4,
  "vscode": {
   "interpreter": {
    "hash": "7c62320811dc8d19aaf7d5d515d0c4055ca522ba5d92ae939066e227b4c04ee0"
   }
  }
 },
 "nbformat": 4,
 "nbformat_minor": 2
}
